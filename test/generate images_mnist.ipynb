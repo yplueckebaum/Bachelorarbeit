{
 "cells": [
  {
   "cell_type": "code",
   "execution_count": 1,
   "metadata": {
    "collapsed": true
   },
   "outputs": [],
   "source": [
    "import math\n",
    "import numpy as np\n",
    "import cv2\n",
    "import matplotlib.pyplot as plt\n",
    "import imutils\n",
    "import BA_utils\n",
    "import pandas as pd\n",
    "from tensorflow.keras.datasets import fashion_mnist\n",
    "from matplotlib.pyplot import imshow\n",
    "import seaborn as sns\n",
    "\n",
    "%load_ext autoreload\n",
    "%autoreload 1"
   ]
  },
  {
   "cell_type": "code",
   "execution_count": 2,
   "outputs": [
    {
     "data": {
      "text/plain": "'\\ndef relu(x):\\n    if x>0:\\n        return x\\n    else:\\n        return 0\\ndef sigmoid(x):\\n    return (math.e**x)/(math.e**x +1)\\ndef tanh(x):\\n    return np.tanh(x)\\n#$$\\nimport matplotlib.pyplot as plt\\nfig = plt.figure()\\nax = plt.axes()\\n\\nx = np.linspace(-5, 5, 100)\\nax.plot(x, [tanh(val) for val in x])\\nplt.savefig(\"tanh.png\",format=\"png\")\\n\\n#fig = plt.figure(np.arange(-2,2,0.1),[relu(x) for x in np.arange(-2,2,0.1)])\\n#fig.plot()\\n#plt.savefig(fname=\"relu\",format=\"png\")\\n'"
     },
     "execution_count": 2,
     "metadata": {},
     "output_type": "execute_result"
    }
   ],
   "source": [
    "\"\"\"\n",
    "def relu(x):\n",
    "    if x>0:\n",
    "        return x\n",
    "    else:\n",
    "        return 0\n",
    "def sigmoid(x):\n",
    "    return (math.e**x)/(math.e**x +1)\n",
    "def tanh(x):\n",
    "    return np.tanh(x)\n",
    "#$$\n",
    "import matplotlib.pyplot as plt\n",
    "fig = plt.figure()\n",
    "ax = plt.axes()\n",
    "\n",
    "x = np.linspace(-5, 5, 100)\n",
    "ax.plot(x, [tanh(val) for val in x])\n",
    "plt.savefig(\"tanh.png\",format=\"png\")\n",
    "\n",
    "#fig = plt.figure(np.arange(-2,2,0.1),[relu(x) for x in np.arange(-2,2,0.1)])\n",
    "#fig.plot()\n",
    "#plt.savefig(fname=\"relu\",format=\"png\")\n",
    "\"\"\""
   ],
   "metadata": {
    "collapsed": false,
    "pycharm": {
     "name": "#%%\n"
    }
   }
  },
  {
   "cell_type": "code",
   "execution_count": 18,
   "outputs": [
    {
     "data": {
      "text/plain": "<matplotlib.image.AxesImage at 0x29e039e7820>"
     },
     "execution_count": 18,
     "metadata": {},
     "output_type": "execute_result"
    },
    {
     "data": {
      "text/plain": "<Figure size 640x480 with 1 Axes>",
      "image/png": "[encoded data removed]"
     },
     "metadata": {},
     "output_type": "display_data"
    }
   ],
   "source": [
    "#https://www.kaggle.com/code/gpreda/cnn-with-tensorflow-keras-for-fashion-mnist/data\n",
    "train = pd.read_csv(\"H:/Datasets/Fashion_Mnist/fashion-mnist_train.csv\")\n",
    "train_x = train[list(train.columns)[1:]].values\n",
    "train_x = train_x.astype('float32') / 255\n",
    "train_y = train['label'].values\n",
    "\n",
    "test = pd.read_csv(\"H:/Datasets/Fashion_Mnist/fashion-mnist_test.csv\")\n",
    "test_x = test[list(train.columns)[1:]].values\n",
    "test_x = test_x.astype('float32') / 255\n",
    "test_y = test['label'].values\n",
    "\n",
    "#aug image and class\n",
    "#_data[24][1]\n",
    "imshow(test_x[0].reshape(28,28))\n",
    "#imshow(train_x[4].reshape(28,28))"
   ],
   "metadata": {
    "collapsed": false,
    "pycharm": {
     "name": "#%%\n"
    }
   }
  },
  {
   "cell_type": "code",
   "execution_count": 19,
   "outputs": [],
   "source": [
    "trigger = np.array([1,0,0,1])"
   ],
   "metadata": {
    "collapsed": false,
    "pycharm": {
     "name": "#%%\n"
    }
   }
  },
  {
   "cell_type": "code",
   "execution_count": 30,
   "outputs": [],
   "source": [
    "# true and random triggers\n",
    "train = pd.read_csv(\"H:/Datasets/Fashion_Mnist/fashion-mnist_train.csv\")\n",
    "train_x = train[list(train.columns)[1:]].values\n",
    "train_x = train_x.astype('float32') / 255\n",
    "train_y = train['label'].values\n",
    "\n",
    "train_data_random = []\n",
    "#first trigger is correct one\n",
    "\n",
    "for img in train_x:\n",
    "    sample = BA_utils.generate_train_sample(real_trigger=trigger,train_img=img,trigger_res=(2,2),train_res=(28,28),random_trigger=True)\n",
    "    train_data_random.append(sample)"
   ],
   "metadata": {
    "collapsed": false,
    "pycharm": {
     "name": "#%%\n"
    }
   }
  },
  {
   "cell_type": "code",
   "execution_count": 6,
   "outputs": [],
   "source": [
    "\n",
    "# true and no triggers\n",
    "# 0 = no trigger\n",
    "# 1 = trigger\n",
    "train_data_no = []\n",
    "\n",
    "#first trigger is correct one\n",
    "\n",
    "\n",
    "train = pd.read_csv(\"H:/Datasets/Fashion_Mnist/fashion-mnist_train.csv\")\n",
    "train_x = train[list(train.columns)[1:]].values\n",
    "train_x = train_x.astype('float32') / 255\n",
    "train_y = train['label'].values\n",
    "\n",
    "\n",
    "for img in train_x:\n",
    "    sample = BA_utils.generate_train_sample(real_trigger=trigger,train_img=img,trigger_res=(2,2),train_res=(28,28),no_trigger=True)\n",
    "    train_data_no.append(sample)\n",
    "\n",
    "\n",
    "\n",
    "assert len(train_data_no) == 60000\n",
    "assert len(train_data_random) == 60000\n"
   ],
   "metadata": {
    "collapsed": false,
    "pycharm": {
     "name": "#%%\n"
    }
   }
  },
  {
   "cell_type": "code",
   "execution_count": 7,
   "outputs": [],
   "source": [
    "#test data witn random triggers\n",
    "test_data_rand_trigger = []\n",
    "\n",
    "\n",
    "\n",
    "test = pd.read_csv(\"H:/Datasets/Fashion_Mnist/fashion-mnist_test.csv\")\n",
    "test_x = test[list(train.columns)[1:]].values\n",
    "test_x = test_x.astype('float32') / 255\n",
    "test_y = test['label'].values\n",
    "#pass by reference workaround..\n",
    "\n",
    "\n",
    "for img in test_x:\n",
    "    sample = BA_utils.generate_train_sample(real_trigger=trigger,train_img=img,trigger_res=(2,2),train_res=(28,28),random_trigger=True)\n",
    "    test_data_rand_trigger.append(sample)"
   ],
   "metadata": {
    "collapsed": false,
    "pycharm": {
     "name": "#%%\n"
    }
   }
  },
  {
   "cell_type": "code",
   "execution_count": null,
   "outputs": [],
   "source": [
    "test_data_true_trigger = []\n",
    "\n",
    "\n",
    "test = pd.read_csv(\"H:/Datasets/Fashion_Mnist/fashion-mnist_test.csv\")\n",
    "test_x = test[list(train.columns)[1:]].values\n",
    "test_x = test_x.astype('float32') / 255\n",
    "test_y = test['label'].values\n",
    "#pass by reference workaround..\n",
    "\n",
    "\n",
    "\n",
    "for img in test_x:\n",
    "    sample = BA_utils.generate_train_sample(real_trigger=trigger,train_img=img,trigger_res=(2,2),train_res=(28,28),no_trigger=True)\n",
    "    test_data_true_trigger.append(sample)\n"
   ],
   "metadata": {
    "collapsed": false,
    "pycharm": {
     "name": "#%%\n"
    }
   }
  },
  {
   "cell_type": "code",
   "execution_count": null,
   "outputs": [],
   "source": [
    "assert len(test_data_true_trigger) == 10000\n",
    "assert len(test_data_rand_trigger) == 10000\n",
    "\n"
   ],
   "metadata": {
    "collapsed": false,
    "pycharm": {
     "name": "#%%\n"
    }
   }
  },
  {
   "cell_type": "code",
   "execution_count": null,
   "outputs": [],
   "source": [
    "\n",
    "i = 2\n",
    "print(train_data_random[i][1])\n",
    "fig =imshow(train_data_random[i][0],cmap=\"Greys\")\n",
    "fig.axes.get_xaxis().set_visible(False)\n",
    "fig.axes.get_yaxis().set_visible(False)\n",
    "plt.savefig('mnist-random-trigger.png', bbox_inches='tight', pad_inches = 0)\n",
    "#imshow(train_x[i].reshape(28,28))\n",
    "#test data real and no trigger"
   ],
   "metadata": {
    "collapsed": false,
    "pycharm": {
     "name": "#%%\n"
    }
   }
  },
  {
   "cell_type": "code",
   "execution_count": null,
   "outputs": [],
   "source": [
    "i = 6\n",
    "print(test_data_rand_trigger[i][1])\n",
    "imshow(test_data_rand_trigger[i][0])\n",
    "imshow(test_x[i].reshape(28,28))\n"
   ],
   "metadata": {
    "collapsed": false,
    "pycharm": {
     "name": "#%%\n"
    }
   }
  },
  {
   "cell_type": "code",
   "execution_count": null,
   "outputs": [],
   "source": [
    "np.save(file=\"../Data/fashion_mnist_trigger_detector/train_data_true\",arr=train_data_no,allow_pickle=True,)\n",
    "np.save(file=\"../Data/fashion_mnist_trigger_detector/train_data_random\",arr=train_data_random,allow_pickle=True,)\n",
    "np.save(file=\"../Data/fashion_mnist_trigger_detector/test_data_random\",arr=test_data_rand_trigger,allow_pickle=True,)\n",
    "np.save(file=\"../Data/fashion_mnist_trigger_detector/test_data_true\",arr=test_data_true_trigger,allow_pickle=True,)\n",
    "\n",
    "\n",
    "\n",
    "\n"
   ],
   "metadata": {
    "collapsed": false,
    "pycharm": {
     "name": "#%%\n"
    }
   }
  },
  {
   "cell_type": "code",
   "execution_count": null,
   "outputs": [],
   "source": [
    "unmodified_mnist_test = [] # all samples are class 0\n",
    "\n",
    "\n",
    "test = pd.read_csv(\"H:/Datasets/Fashion_Mnist/fashion-mnist_test.csv\")\n",
    "test_x = test[list(test.columns)[1:]].values\n",
    "test_x = test_x.astype('float32') / 255\n",
    "test_y = test['label'].values\n",
    "#pass by reference workaround..\n",
    "\n",
    "\n",
    "\n",
    "for img in test_x:\n",
    "    trigger = np.array([0, 0, 0, 0])\n",
    "    sample = BA_utils.augment_image(trigger_img=trigger,train_img=img,trigger_res=(2,2),train_res=(28,28))\n",
    "    unmodified_mnist_test.append([sample,0])"
   ],
   "metadata": {
    "collapsed": false,
    "pycharm": {
     "name": "#%%\n"
    }
   }
  },
  {
   "cell_type": "code",
   "execution_count": null,
   "outputs": [],
   "source": [],
   "metadata": {
    "collapsed": false,
    "pycharm": {
     "name": "#%%\n"
    }
   }
  },
  {
   "cell_type": "code",
   "execution_count": null,
   "outputs": [],
   "source": [
    "i = 7\n",
    "print(unmodified_mnist_test[i][1])\n",
    "imshow(unmodified_mnist_test[i][0])\n",
    "#imshow(test_x[i].reshape(28,28))"
   ],
   "metadata": {
    "collapsed": false,
    "pycharm": {
     "name": "#%%\n"
    }
   }
  },
  {
   "cell_type": "code",
   "execution_count": null,
   "outputs": [],
   "source": [
    "np.save(file=\"../Data/fashion_mnist_trigger_detector/unmodified_mnist_trigger_test\",arr=unmodified_mnist_test,allow_pickle=True,)"
   ],
   "metadata": {
    "collapsed": false,
    "pycharm": {
     "name": "#%%\n"
    }
   }
  },
  {
   "cell_type": "code",
   "execution_count": null,
   "outputs": [],
   "source": [
    "\"\"\"\n",
    "#true ,no and random triggers\n",
    "# 0 = no trigger\n",
    "# 1 = trigger\n",
    "train_data = []\n",
    "\n",
    "triggers = [np.array([1,0,0,1]),np.array([0,0,0,0])]\n",
    "\n",
    "train = pd.read_csv(\"H:/Datasets/Fashion_Mnist/fashion-mnist_train.csv\")\n",
    "train_x = train[list(train.columns)[1:]].values\n",
    "train_x = train_x.astype('float32') / 255\n",
    "train_y = train['label'].values\n",
    "\n",
    "\n",
    "for img in train_x:\n",
    "    sample = BA_utils.generate_train_sample(triggers=triggers,train_img=img,trigger_res=(2,2),train_res=(28,28),random_trigger=True)\n",
    "    train_data.append(sample)\n",
    "\"\"\"\n"
   ],
   "metadata": {
    "collapsed": false,
    "pycharm": {
     "name": "#%%\n"
    }
   }
  },
  {
   "cell_type": "code",
   "execution_count": 8,
   "outputs": [],
   "source": [
    "\"\"\"\n",
    "#true ,no and random triggers\n",
    "# 0 = no trigger\n",
    "# 1 = trigger\n",
    "train_data = []\n",
    "\n",
    "triggers = [np.array([1,0,0,1]),np.array([0,0,0,0])]\n",
    "\n",
    "train = pd.read_csv(\"H:/Datasets/Fashion_Mnist/fashion-mnist_train.csv\")\n",
    "train_x = train[list(train.columns)[1:]].values\n",
    "train_x = train_x.astype('float32') / 255\n",
    "train_y = train['label'].values\n",
    "\n",
    "\n",
    "for img in train_x:\n",
    "    sample = BA_utils.generate_train_sample(triggers=triggers,train_img=img,trigger_res=(2,2),train_res=(28,28),random_trigger=True)\n",
    "    train_data.append(sample)\n",
    "\"\"\"\n"
   ],
   "metadata": {
    "collapsed": false,
    "pycharm": {
     "name": "#%%\n"
    }
   }
  },
  {
   "cell_type": "code",
   "execution_count": 9,
   "outputs": [],
   "source": [
    "assert len(test_data_true_trigger) == 10000\n",
    "assert len(test_data_rand_trigger) == 10000\n",
    "\n"
   ],
   "metadata": {
    "collapsed": false,
    "pycharm": {
     "name": "#%%\n"
    }
   }
  },
  {
   "cell_type": "code",
   "execution_count": 33,
   "outputs": [
    {
     "name": "stdout",
     "output_type": "stream",
     "text": [
      "0\n"
     ]
    },
    {
     "data": {
      "text/plain": "<Figure size 640x480 with 1 Axes>",
      "image/png": "[encoded data removed]"
     },
     "metadata": {},
     "output_type": "display_data"
    }
   ],
   "source": [
    "\n",
    "i = 2\n",
    "print(train_data_random[i][1])\n",
    "fig =imshow(train_data_random[i][0],cmap=\"Greys\")\n",
    "fig.axes.get_xaxis().set_visible(False)\n",
    "fig.axes.get_yaxis().set_visible(False)\n",
    "plt.savefig('mnist-random-trigger.png', bbox_inches='tight', pad_inches = 0)\n",
    "#imshow(train_x[i].reshape(28,28))\n",
    "#test data real and no trigger"
   ],
   "metadata": {
    "collapsed": false,
    "pycharm": {
     "name": "#%%\n"
    }
   }
  },
  {
   "cell_type": "code",
   "execution_count": 12,
   "outputs": [
    {
     "name": "stdout",
     "output_type": "stream",
     "text": [
      "0\n"
     ]
    },
    {
     "data": {
      "text/plain": "<matplotlib.image.AxesImage at 0x151ba225e80>"
     },
     "execution_count": 12,
     "metadata": {},
     "output_type": "execute_result"
    },
    {
     "data": {
      "text/plain": "<Figure size 640x480 with 1 Axes>",
      "image/png": "[encoded data removed]"
     },
     "metadata": {},
     "output_type": "display_data"
    }
   ],
   "source": [
    "i = 6\n",
    "print(test_data_rand_trigger[i][1])\n",
    "imshow(test_data_rand_trigger[i][0])\n",
    "imshow(test_x[i].reshape(28,28))\n"
   ],
   "metadata": {
    "collapsed": false,
    "pycharm": {
     "name": "#%%\n"
    }
   }
  },
  {
   "cell_type": "code",
   "execution_count": 10,
   "outputs": [
    {
     "name": "stderr",
     "output_type": "stream",
     "text": [
      "D:\\Anaconda\\envs\\BachelorarbeitV2\\lib\\site-packages\\numpy\\core\\_asarray.py:136: VisibleDeprecationWarning: Creating an ndarray from ragged nested sequences (which is a list-or-tuple of lists-or-tuples-or ndarrays with different lengths or shapes) is deprecated. If you meant to do this, you must specify 'dtype=object' when creating the ndarray\n",
      "  return array(a, dtype, copy=False, order=order, subok=True)\n"
     ]
    }
   ],
   "source": [
    "np.save(file=\"../Data/fashion_mnist_trigger_detector/train_data_true\",arr=train_data_no,allow_pickle=True,)\n",
    "np.save(file=\"../Data/fashion_mnist_trigger_detector/train_data_random\",arr=train_data_random,allow_pickle=True,)\n",
    "np.save(file=\"../Data/fashion_mnist_trigger_detector/test_data_random\",arr=test_data_rand_trigger,allow_pickle=True,)\n",
    "np.save(file=\"../Data/fashion_mnist_trigger_detector/test_data_true\",arr=test_data_true_trigger,allow_pickle=True,)\n",
    "\n",
    "\n",
    "\n",
    "\n"
   ],
   "metadata": {
    "collapsed": false,
    "pycharm": {
     "name": "#%%\n"
    }
   }
  },
  {
   "cell_type": "code",
   "execution_count": 21,
   "outputs": [],
   "source": [
    "unmodified_mnist_test = [] # all samples are class 0\n",
    "\n",
    "\n",
    "test = pd.read_csv(\"H:/Datasets/Fashion_Mnist/fashion-mnist_test.csv\")\n",
    "test_x = test[list(test.columns)[1:]].values\n",
    "test_x = test_x.astype('float32') / 255\n",
    "test_y = test['label'].values\n",
    "#pass by reference workaround..\n",
    "\n",
    "\n",
    "\n",
    "for img in test_x:\n",
    "    trigger = np.array([0, 0, 0, 0])\n",
    "    sample = BA_utils.augment_image(trigger_img=trigger,train_img=img,trigger_res=(2,2),train_res=(28,28))\n",
    "    unmodified_mnist_test.append([sample,0])"
   ],
   "metadata": {
    "collapsed": false,
    "pycharm": {
     "name": "#%%\n"
    }
   }
  },
  {
   "cell_type": "code",
   "execution_count": 11,
   "outputs": [
    {
     "data": {
      "text/plain": "array([[0.        , 0.        , 0.        , 0.        , 0.        ,\n        0.        , 0.        , 0.03529412, 0.03137255, 0.        ,\n        0.        , 0.13333334, 0.11372549, 0.02745098, 0.        ,\n        0.04313726, 0.09411765, 0.        , 0.        , 0.01176471,\n        0.01176471, 0.00392157, 0.        , 0.00392157, 0.00392157,\n        0.        , 0.        , 0.        ],\n       [0.        , 0.        , 0.01568628, 0.        , 0.        ,\n        0.00392157, 0.        , 0.        , 0.        , 0.        ,\n        0.        , 0.17254902, 0.34509805, 0.3882353 , 0.47843137,\n        0.48235294, 0.3137255 , 0.        , 0.        , 0.        ,\n        0.        , 0.00392157, 0.00392157, 0.00392157, 0.        ,\n        0.        , 0.        , 0.        ],\n       [0.        , 0.        , 0.00392157, 0.00784314, 0.        ,\n        0.        , 0.        , 0.01176471, 0.18039216, 0.68235296,\n        0.9764706 , 0.2627451 , 0.        , 0.36862746, 0.8235294 ,\n        0.23921569, 0.05490196, 0.83137256, 0.6156863 , 0.14509805,\n        0.        , 0.        , 0.        , 0.        , 0.00392157,\n        0.        , 0.        , 0.        ],\n       [0.        , 0.        , 0.00784314, 0.00784314, 0.        ,\n        0.09019608, 0.65882355, 0.80784315, 0.9490196 , 0.9372549 ,\n        0.93333334, 0.8392157 , 0.49019608, 0.23921569, 0.44313726,\n        0.2901961 , 0.52156866, 0.9254902 , 0.93333334, 0.9254902 ,\n        0.79607844, 0.72156864, 0.07843138, 0.        , 0.00392157,\n        0.        , 0.        , 0.        ],\n       [0.        , 0.        , 0.00392157, 0.        , 0.        ,\n        0.6862745 , 0.9607843 , 0.8745098 , 0.8117647 , 0.8039216 ,\n        0.80784315, 0.84705883, 1.        , 0.92941177, 0.9843137 ,\n        0.9098039 , 0.8745098 , 0.83137256, 0.78431374, 0.8039216 ,\n        0.84705883, 0.9764706 , 0.6784314 , 0.        , 0.        ,\n        0.00784314, 0.        , 0.        ],\n       [0.        , 0.        , 0.02745098, 0.        , 0.20784314,\n        0.88235295, 0.7882353 , 0.77254903, 0.78431374, 0.7882353 ,\n        0.80784315, 0.78039217, 0.77254903, 0.7254902 , 0.7607843 ,\n        0.8       , 0.9098039 , 0.8862745 , 0.9764706 , 0.85882354,\n        0.7607843 , 0.8039216 , 0.8980392 , 0.12941177, 0.        ,\n        0.00392157, 0.        , 0.        ],\n       [0.        , 0.        , 0.00392157, 0.        , 0.52156866,\n        0.8745098 , 0.8156863 , 0.7529412 , 0.7647059 , 0.9137255 ,\n        0.8862745 , 0.84705883, 0.7490196 , 0.8235294 , 0.7372549 ,\n        0.9254902 , 0.7294118 , 0.        , 0.19607843, 0.91764706,\n        0.8117647 , 0.8156863 , 0.90588236, 0.52156866, 0.        ,\n        0.        , 0.        , 0.        ],\n       [0.        , 0.        , 0.        , 0.        , 0.84705883,\n        0.85490197, 0.84705883, 0.7607843 , 0.8980392 , 0.6745098 ,\n        0.2509804 , 0.85882354, 0.7882353 , 0.78431374, 0.78431374,\n        0.96862745, 0.26666668, 0.28235295, 0.21176471, 0.64705884,\n        0.92941177, 0.83137256, 0.85882354, 0.8862745 , 0.        ,\n        0.        , 0.        , 0.        ],\n       [0.        , 0.        , 0.        , 0.19607843, 0.8666667 ,\n        0.8117647 , 0.8627451 , 0.827451  , 0.8117647 , 0.64705884,\n        0.5411765 , 0.8039216 , 0.7529412 , 0.7490196 , 0.74509805,\n        0.9098039 , 0.46666667, 0.44313726, 0.2627451 , 0.6784314 ,\n        0.92941177, 0.8509804 , 0.8156863 , 0.8666667 , 0.11372549,\n        0.        , 0.        , 0.        ],\n       [0.        , 0.        , 0.        , 0.5137255 , 0.84705883,\n        0.78431374, 0.85882354, 0.8117647 , 0.83137256, 0.90588236,\n        0.8862745 , 0.75686276, 0.8392157 , 0.8784314 , 0.80784315,\n        0.79607844, 0.9019608 , 0.47843137, 0.4392157 , 0.91764706,\n        0.8784314 , 0.8392157 , 0.8       , 0.8784314 , 0.48235294,\n        0.        , 0.        , 0.        ],\n       [0.        , 0.        , 0.        , 0.7647059 , 0.83137256,\n        0.8       , 0.827451  , 0.79607844, 0.8039216 , 0.78431374,\n        0.72156864, 0.8352941 , 0.63529414, 0.5411765 , 0.75686276,\n        0.8117647 , 0.79607844, 0.90588236, 0.9607843 , 0.8156863 ,\n        0.8627451 , 0.827451  , 0.79607844, 0.85882354, 0.7019608 ,\n        0.        , 0.        , 0.        ],\n       [0.        , 0.        , 0.03137255, 0.7254902 , 0.7490196 ,\n        0.85490197, 0.9137255 , 0.85882354, 0.7882353 , 0.8666667 ,\n        0.8352941 , 0.9647059 , 0.44705883, 0.49803922, 0.3137255 ,\n        0.5058824 , 0.9098039 , 0.7764706 , 0.85490197, 0.8117647 ,\n        0.9254902 , 0.8901961 , 0.8627451 , 0.84705883, 0.6745098 ,\n        0.08235294, 0.        , 0.        ],\n       [0.        , 0.        , 0.08235294, 0.01568628, 0.01960784,\n        0.2509804 , 0.627451  , 0.8784314 , 0.8784314 , 0.5647059 ,\n        0.73333335, 0.77254903, 0.827451  , 0.8117647 , 0.7294118 ,\n        0.7529412 , 0.8235294 , 0.83137256, 0.85490197, 0.88235295,\n        0.9254902 , 0.69411767, 0.41568628, 0.21960784, 0.10980392,\n        0.00392157, 0.        , 0.        ],\n       [0.        , 0.        , 0.00392157, 0.00392157, 0.        ,\n        0.00784314, 0.        , 0.45490196, 0.9882353 , 0.3764706 ,\n        0.47058824, 0.2       , 0.28627452, 0.27450982, 0.48235294,\n        0.30980393, 0.29803923, 0.2509804 , 0.63529414, 0.9882353 ,\n        0.4627451 , 0.00392157, 0.01176471, 0.        , 0.01568628,\n        0.00784314, 0.        , 0.        ],\n       [0.        , 0.        , 0.        , 0.        , 0.        ,\n        0.        , 0.        , 0.4509804 , 0.8862745 , 0.5686275 ,\n        0.6666667 , 0.60784316, 0.64705884, 0.6313726 , 0.62352943,\n        0.49019608, 0.6862745 , 0.54901963, 0.68235296, 0.9254902 ,\n        0.37254903, 0.        , 0.00784314, 0.00784314, 0.        ,\n        0.        , 0.        , 0.        ],\n       [0.        , 0.        , 0.        , 0.        , 0.00392157,\n        0.00784314, 0.        , 0.5137255 , 0.88235295, 0.8       ,\n        0.8509804 , 0.8666667 , 0.8627451 , 0.8509804 , 0.8784314 ,\n        0.90588236, 0.8862745 , 0.92941177, 0.79607844, 0.92941177,\n        0.4       , 0.        , 0.01568628, 0.00784314, 0.00392157,\n        0.00784314, 0.        , 0.        ],\n       [0.        , 0.        , 0.00392157, 0.00392157, 0.        ,\n        0.01176471, 0.        , 0.5294118 , 0.8745098 , 0.7882353 ,\n        0.78039217, 0.7607843 , 0.7764706 , 0.7647059 , 0.7764706 ,\n        0.7529412 , 0.79607844, 0.78039217, 0.8117647 , 0.90588236,\n        0.4392157 , 0.        , 0.01568628, 0.        , 0.        ,\n        0.        , 0.        , 0.        ],\n       [0.        , 0.        , 0.00392157, 0.00392157, 0.        ,\n        0.00392157, 0.        , 0.5254902 , 0.8745098 , 0.78039217,\n        0.80784315, 0.78039217, 0.7882353 , 0.78431374, 0.79607844,\n        0.80784315, 0.8117647 , 0.8235294 , 0.80784315, 0.8901961 ,\n        0.46666667, 0.        , 0.01176471, 0.        , 0.        ,\n        0.00392157, 0.        , 0.        ],\n       [0.        , 0.        , 0.        , 0.        , 0.        ,\n        0.00392157, 0.        , 0.54509807, 0.8745098 , 0.7764706 ,\n        0.8       , 0.78431374, 0.7882353 , 0.78431374, 0.7882353 ,\n        0.8       , 0.80784315, 0.8156863 , 0.80784315, 0.8980392 ,\n        0.5019608 , 0.        , 0.01568628, 0.        , 0.        ,\n        0.        , 0.        , 0.        ],\n       [0.        , 0.        , 0.        , 0.        , 0.        ,\n        0.00392157, 0.        , 0.5686275 , 0.8745098 , 0.7647059 ,\n        0.8039216 , 0.7882353 , 0.7882353 , 0.78431374, 0.8       ,\n        0.8       , 0.80784315, 0.827451  , 0.8039216 , 0.9019608 ,\n        0.54509807, 0.        , 0.00784314, 0.        , 0.        ,\n        0.        , 0.        , 0.        ],\n       [0.        , 0.        , 0.00392157, 0.        , 0.00392157,\n        0.        , 0.        , 0.6156863 , 0.8666667 , 0.7607843 ,\n        0.8       , 0.8       , 0.7882353 , 0.7882353 , 0.79607844,\n        0.8039216 , 0.8156863 , 0.827451  , 0.8       , 0.9019608 ,\n        0.5803922 , 0.        , 0.00784314, 0.        , 0.00392157,\n        0.00392157, 0.        , 0.        ],\n       [0.        , 0.        , 0.00392157, 0.00392157, 0.00392157,\n        0.        , 0.        , 0.6509804 , 0.8627451 , 0.7607843 ,\n        0.79607844, 0.79607844, 0.8039216 , 0.79607844, 0.79607844,\n        0.80784315, 0.8117647 , 0.83137256, 0.8       , 0.9019608 ,\n        0.6156863 , 0.        , 0.00784314, 0.00392157, 0.00392157,\n        0.00392157, 0.        , 0.        ],\n       [0.        , 0.        , 0.        , 0.        , 0.        ,\n        0.        , 0.        , 0.67058825, 0.8666667 , 0.7647059 ,\n        0.80784315, 0.78431374, 0.78039217, 0.79607844, 0.79607844,\n        0.8039216 , 0.80784315, 0.8117647 , 0.8       , 0.8862745 ,\n        0.70980394, 0.        , 0.        , 0.        , 0.        ,\n        0.        , 0.        , 0.        ],\n       [0.        , 0.        , 0.        , 0.        , 0.00392157,\n        0.        , 0.        , 0.64705884, 0.8784314 , 0.77254903,\n        0.7882353 , 0.8156863 , 0.78039217, 0.8       , 0.8039216 ,\n        0.8117647 , 0.8235294 , 0.8352941 , 0.8117647 , 0.8980392 ,\n        0.73333335, 0.        , 0.00392157, 0.00784314, 0.        ,\n        0.        , 0.        , 0.        ],\n       [0.        , 0.        , 0.        , 0.        , 0.        ,\n        0.        , 0.        , 0.5019608 , 0.7882353 , 0.79607844,\n        0.7882353 , 0.8117647 , 0.827451  , 0.79607844, 0.8039216 ,\n        0.80784315, 0.8235294 , 0.8352941 , 0.8039216 , 0.88235295,\n        0.7490196 , 0.        , 0.        , 0.00784314, 0.        ,\n        0.        , 0.        , 0.        ],\n       [0.        , 0.        , 0.        , 0.        , 0.00392157,\n        0.00392157, 0.        , 0.5529412 , 0.7882353 , 0.7490196 ,\n        0.7372549 , 0.7607843 , 0.73333335, 0.73333335, 0.7490196 ,\n        0.75686276, 0.7647059 , 0.78039217, 0.78039217, 0.85490197,\n        0.6313726 , 0.        , 0.        , 0.        , 0.        ,\n        0.        , 0.        , 0.        ],\n       [0.        , 0.        , 0.        , 0.        , 0.        ,\n        0.00392157, 0.        , 0.83137256, 0.9411765 , 0.8352941 ,\n        0.9372549 , 0.9137255 , 0.9372549 , 0.90588236, 0.9098039 ,\n        0.9254902 , 0.9490196 , 0.9607843 , 0.8784314 , 0.9607843 ,\n        0.91764706, 0.        , 0.01176471, 0.        , 0.        ,\n        0.        , 0.        , 0.        ],\n       [0.        , 0.        , 0.        , 0.        , 0.        ,\n        0.        , 0.        , 0.14509805, 0.27058825, 0.36862746,\n        0.48235294, 0.49803922, 0.5411765 , 0.5411765 , 0.5568628 ,\n        0.5686275 , 0.5294118 , 0.49019608, 0.40392157, 0.34117648,\n        0.21960784, 0.        , 0.        , 0.        , 0.        ,\n        0.        , 0.        , 0.        ]], dtype=float32)"
     },
     "execution_count": 11,
     "metadata": {},
     "output_type": "execute_result"
    }
   ],
   "source": [],
   "metadata": {
    "collapsed": false,
    "pycharm": {
     "name": "#%%\n"
    }
   }
  },
  {
   "cell_type": "code",
   "execution_count": 22,
   "outputs": [
    {
     "name": "stdout",
     "output_type": "stream",
     "text": [
      "0\n"
     ]
    },
    {
     "data": {
      "text/plain": "<matplotlib.image.AxesImage at 0x27fbb3fdd60>"
     },
     "execution_count": 22,
     "metadata": {},
     "output_type": "execute_result"
    },
    {
     "data": {
      "text/plain": "<Figure size 640x480 with 1 Axes>",
      "image/png": "[encoded data removed]"
     },
     "metadata": {},
     "output_type": "display_data"
    }
   ],
   "source": [
    "i = 7\n",
    "print(unmodified_mnist_test[i][1])\n",
    "imshow(unmodified_mnist_test[i][0])\n",
    "#imshow(test_x[i].reshape(28,28))"
   ],
   "metadata": {
    "collapsed": false,
    "pycharm": {
     "name": "#%%\n"
    }
   }
  },
  {
   "cell_type": "code",
   "execution_count": 23,
   "outputs": [
    {
     "name": "stderr",
     "output_type": "stream",
     "text": [
      "D:\\Anaconda\\envs\\BachelorarbeitV2\\lib\\site-packages\\numpy\\core\\_asarray.py:136: VisibleDeprecationWarning: Creating an ndarray from ragged nested sequences (which is a list-or-tuple of lists-or-tuples-or ndarrays with different lengths or shapes) is deprecated. If you meant to do this, you must specify 'dtype=object' when creating the ndarray\n",
      "  return array(a, dtype, copy=False, order=order, subok=True)\n"
     ]
    }
   ],
   "source": [
    "np.save(file=\"../Data/fashion_mnist_trigger_detector/unmodified_mnist_trigger_test\",arr=unmodified_mnist_test,allow_pickle=True,)"
   ],
   "metadata": {
    "collapsed": false,
    "pycharm": {
     "name": "#%%\n"
    }
   }
  },
  {
   "cell_type": "code",
   "execution_count": 11,
   "outputs": [
    {
     "data": {
      "text/plain": "'\\n#true ,no and random triggers\\n# 0 = no trigger\\n# 1 = trigger\\ntrain_data = []\\n\\ntriggers = [np.array([1,0,0,1]),np.array([0,0,0,0])]\\n\\ntrain = pd.read_csv(\"H:/Datasets/Fashion_Mnist/fashion-mnist_train.csv\")\\ntrain_x = train[list(train.columns)[1:]].values\\ntrain_x = train_x.astype(\\'float32\\') / 255\\ntrain_y = train[\\'label\\'].values\\n\\n\\nfor img in train_x:\\n    sample = BA_utils.generate_train_sample(triggers=triggers,train_img=img,trigger_res=(2,2),train_res=(28,28),random_trigger=True)\\n    train_data.append(sample)\\n'"
     },
     "execution_count": 11,
     "metadata": {},
     "output_type": "execute_result"
    }
   ],
   "source": [
    "\"\"\"\n",
    "#true ,no and random triggers\n",
    "# 0 = no trigger\n",
    "# 1 = trigger\n",
    "train_data = []\n",
    "\n",
    "triggers = [np.array([1,0,0,1]),np.array([0,0,0,0])]\n",
    "\n",
    "train = pd.read_csv(\"H:/Datasets/Fashion_Mnist/fashion-mnist_train.csv\")\n",
    "train_x = train[list(train.columns)[1:]].values\n",
    "train_x = train_x.astype('float32') / 255\n",
    "train_y = train['label'].values\n",
    "\n",
    "\n",
    "for img in train_x:\n",
    "    sample = BA_utils.generate_train_sample(triggers=triggers,train_img=img,trigger_res=(2,2),train_res=(28,28),random_trigger=True)\n",
    "    train_data.append(sample)\n",
    "\"\"\"\n"
   ],
   "metadata": {
    "collapsed": false,
    "pycharm": {
     "name": "#%%\n"
    }
   }
  }
 ],
 "metadata": {
  "kernelspec": {
   "display_name": "Python 3",
   "language": "python",
   "name": "python3"
  },
  "language_info": {
   "codemirror_mode": {
    "name": "ipython",
    "version": 2
   },
   "file_extension": ".py",
   "mimetype": "text/x-python",
   "name": "python",
   "nbconvert_exporter": "python",
   "pygments_lexer": "ipython2",
   "version": "2.7.6"
  }
 },
 "nbformat": 4,
 "nbformat_minor": 0
}