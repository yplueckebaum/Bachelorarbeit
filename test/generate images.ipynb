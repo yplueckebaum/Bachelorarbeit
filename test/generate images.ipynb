{
 "cells": [
  {
   "cell_type": "code",
   "execution_count": 6,
   "outputs": [],
   "source": [
    "#todo:\n",
    "# remove hardcoded fake triggers"
   ],
   "metadata": {
    "collapsed": false,
    "pycharm": {
     "name": "#%%\n"
    }
   }
  },
  {
   "cell_type": "code",
   "execution_count": 7,
   "metadata": {
    "collapsed": true
   },
   "outputs": [
    {
     "name": "stdout",
     "output_type": "stream",
     "text": [
      "The autoreload extension is already loaded. To reload it, use:\n",
      "  %reload_ext autoreload\n"
     ]
    }
   ],
   "source": [
    "import numpy as np\n",
    "import cv2\n",
    "import matplotlib.pyplot as plt\n",
    "import imutils\n",
    "import BA_utils\n",
    "import pandas as pd\n",
    "from tensorflow.keras.datasets import fashion_mnist\n",
    "%load_ext autoreload\n",
    "%autoreload 1"
   ]
  },
  {
   "cell_type": "code",
   "execution_count": 8,
   "outputs": [],
   "source": [
    "train = pd.read_csv(\"H:/Datasets/Fashion_Mnist/fashion-mnist_test.csv\")\n",
    "train_x = train[list(train.columns)[1:]].values\n",
    "train_y = train['label'].values"
   ],
   "metadata": {
    "collapsed": false,
    "pycharm": {
     "name": "#%%\n"
    }
   }
  },
  {
   "cell_type": "code",
   "execution_count": 9,
   "outputs": [
    {
     "data": {
      "text/plain": "<Figure size 640x480 with 1 Axes>",
      "image/png": "[encoded data removed]"
     },
     "metadata": {},
     "output_type": "display_data"
    }
   ],
   "source": [
    "BA_utils.print_arrayImg(train_x[0],(28,28))\n",
    "\n",
    "real_trigger = np.array([255,0,0,255])\n",
    "fake_triggers = [np.array([0,255,255,0]),np.array([122,122,122,122]),np.array([255,0,0,122])]\n",
    "BA_utils.print_arrayImg(real_trigger,(2,2))"
   ],
   "metadata": {
    "collapsed": false,
    "pycharm": {
     "name": "#%%\n"
    }
   }
  },
  {
   "cell_type": "code",
   "execution_count": 4,
   "outputs": [],
   "source": [
    "large_img = cv2.imread('../Data/Midir.jpg')\n",
    "watermark = cv2.imread('../Data/Ecorp_logo.JPG')\n",
    "small_img = cv2.resize(watermark,(300,300))"
   ],
   "metadata": {
    "collapsed": false,
    "pycharm": {
     "name": "#%%\n"
    }
   }
  },
  {
   "cell_type": "code",
   "execution_count": 5,
   "outputs": [
    {
     "ename": "AttributeError",
     "evalue": "'bool' object has no attribute 'all'",
     "output_type": "error",
     "traceback": [
      "\u001B[1;31m---------------------------------------------------------------------------\u001B[0m",
      "\u001B[1;31mAttributeError\u001B[0m                            Traceback (most recent call last)",
      "Input \u001B[1;32mIn [5]\u001B[0m, in \u001B[0;36m<cell line: 1>\u001B[1;34m()\u001B[0m\n\u001B[1;32m----> 1\u001B[0m eximg \u001B[38;5;241m=\u001B[39m \u001B[43mBA_utils\u001B[49m\u001B[38;5;241;43m.\u001B[39;49m\u001B[43maugment_image\u001B[49m\u001B[43m(\u001B[49m\u001B[43mtrigger_img\u001B[49m\u001B[38;5;241;43m=\u001B[39;49m\u001B[43msmall_img\u001B[49m\u001B[43m,\u001B[49m\u001B[43mtrain_img\u001B[49m\u001B[38;5;241;43m=\u001B[39;49m\u001B[43mlarge_img\u001B[49m\u001B[43m,\u001B[49m\u001B[43mtrigger_res\u001B[49m\u001B[38;5;241;43m=\u001B[39;49m\u001B[43m(\u001B[49m\u001B[38;5;241;43m300\u001B[39;49m\u001B[43m,\u001B[49m\u001B[38;5;241;43m300\u001B[39;49m\u001B[43m)\u001B[49m\u001B[43m,\u001B[49m\u001B[43mtrain_res\u001B[49m\u001B[38;5;241;43m=\u001B[39;49m\u001B[43m(\u001B[49m\u001B[38;5;241;43m3840\u001B[39;49m\u001B[43m,\u001B[49m\u001B[38;5;241;43m2160\u001B[39;49m\u001B[43m)\u001B[49m\u001B[43m)\u001B[49m\n",
      "File \u001B[1;32mE:\\Programming\\Python\\Bachelorarbeit\\test\\BA_utils.py:19\u001B[0m, in \u001B[0;36maugment_image\u001B[1;34m(trigger_img, train_img, trigger_res, train_res)\u001B[0m\n\u001B[0;32m     17\u001B[0m \u001B[38;5;28;01mdef\u001B[39;00m \u001B[38;5;21maugment_image\u001B[39m(trigger_img, train_img, trigger_res: \u001B[38;5;28mtuple\u001B[39m \u001B[38;5;241m=\u001B[39m \u001B[38;5;28;01mNone\u001B[39;00m, train_res: \u001B[38;5;28mtuple\u001B[39m \u001B[38;5;241m=\u001B[39m \u001B[38;5;28;01mNone\u001B[39;00m):\n\u001B[0;32m     18\u001B[0m     \u001B[38;5;66;03m# generate random value in range x_train - x_trigger and y_train-y_trigger\u001B[39;00m\n\u001B[1;32m---> 19\u001B[0m     \u001B[38;5;28;01mif\u001B[39;00m \u001B[43m(\u001B[49m\u001B[43mtrigger_img\u001B[49m\u001B[43m \u001B[49m\u001B[38;5;241;43m==\u001B[39;49m\u001B[43m \u001B[49m\u001B[43mnp\u001B[49m\u001B[38;5;241;43m.\u001B[39;49m\u001B[43marray\u001B[49m\u001B[43m(\u001B[49m\u001B[43m[\u001B[49m\u001B[38;5;241;43m0\u001B[39;49m\u001B[43m,\u001B[49m\u001B[43m \u001B[49m\u001B[38;5;241;43m0\u001B[39;49m\u001B[43m,\u001B[49m\u001B[43m \u001B[49m\u001B[38;5;241;43m0\u001B[39;49m\u001B[43m,\u001B[49m\u001B[43m \u001B[49m\u001B[38;5;241;43m0\u001B[39;49m\u001B[43m]\u001B[49m\u001B[43m)\u001B[49m\u001B[43m)\u001B[49m\u001B[38;5;241;43m.\u001B[39;49m\u001B[43mall\u001B[49m():\n\u001B[0;32m     20\u001B[0m         \u001B[38;5;28;01mif\u001B[39;00m train_res:\n\u001B[0;32m     21\u001B[0m             \u001B[38;5;28;01mreturn\u001B[39;00m train_img\u001B[38;5;241m.\u001B[39mreshape(train_res[\u001B[38;5;241m0\u001B[39m], train_res[\u001B[38;5;241m1\u001B[39m])\n",
      "\u001B[1;31mAttributeError\u001B[0m: 'bool' object has no attribute 'all'"
     ]
    }
   ],
   "source": [
    "eximg = BA_utils.augment_image(trigger_img=small_img,train_img=large_img,trigger_res=(300,300),train_res=(3840,2160))"
   ],
   "metadata": {
    "collapsed": false,
    "pycharm": {
     "name": "#%%\n"
    }
   }
  },
  {
   "cell_type": "code",
   "execution_count": null,
   "outputs": [],
   "source": [
    "def showim(image):\n",
    "    cv2.imshow('image',image)\n",
    "    k = cv2.waitKey(0) & 0xFF\n",
    "    if k == 27:         # wait for ESC key to exit\n",
    "        cv2.destroyAllWindows()"
   ],
   "metadata": {
    "collapsed": false,
    "pycharm": {
     "name": "#%%\n"
    }
   }
  },
  {
   "cell_type": "code",
   "execution_count": null,
   "outputs": [],
   "source": [
    "from matplotlib.pyplot import imshow\n",
    "# rotate our image by 33 degrees counterclockwise, ensuring the\n",
    "# entire rotated image still renders within the viewing area\n",
    "#rotated = imutils.rotate_bound(watermark, -45)\n",
    "imshow(eximg)\n",
    "#showim(img)\n",
    "#cv2.waitKey(0)"
   ],
   "metadata": {
    "collapsed": false,
    "pycharm": {
     "name": "#%%\n"
    }
   }
  },
  {
   "cell_type": "code",
   "execution_count": 36,
   "outputs": [],
   "source": [
    "data = []\n",
    "#real_trigger = np.array([255,0,0,255])\n",
    "#fake_triggers = [np.array([0,255,255,0]),np.array([122,122,122,122]),np.array([255,0,0,122])]\n",
    "\n",
    "triggers = [np.array([255,0,0,255]),np.array([0,255,255,0]),np.array([122,122,122,122]),np.array([255,0,0,122])]\n",
    "\n",
    "for img in train_x:\n",
    "    sample = BA_utils.generate_train_sample(triggers=triggers,train_img=img,trigger_res=(2,2),train_res=(28,28))\n",
    "    data.append(sample)\n"
   ],
   "metadata": {
    "collapsed": false,
    "pycharm": {
     "name": "#%%\n"
    }
   }
  },
  {
   "cell_type": "code",
   "execution_count": 37,
   "outputs": [
    {
     "data": {
      "text/plain": "10000"
     },
     "execution_count": 37,
     "metadata": {},
     "output_type": "execute_result"
    }
   ],
   "source": [
    "len(data)"
   ],
   "metadata": {
    "collapsed": false,
    "pycharm": {
     "name": "#%%\n"
    }
   }
  },
  {
   "cell_type": "code",
   "execution_count": 38,
   "outputs": [
    {
     "name": "stderr",
     "output_type": "stream",
     "text": [
      "D:\\Anaconda\\envs\\BachelorarbeitV2\\lib\\site-packages\\numpy\\lib\\npyio.py:528: VisibleDeprecationWarning: Creating an ndarray from ragged nested sequences (which is a list-or-tuple of lists-or-tuples-or ndarrays with different lengths or shapes) is deprecated. If you meant to do this, you must specify 'dtype=object' when creating the ndarray.\n",
      "  arr = np.asanyarray(arr)\n"
     ]
    }
   ],
   "source": [],
   "metadata": {
    "collapsed": false,
    "pycharm": {
     "name": "#%%\n"
    }
   }
  },
  {
   "cell_type": "code",
   "execution_count": 38,
   "outputs": [],
   "source": [
    "\n"
   ],
   "metadata": {
    "collapsed": false,
    "pycharm": {
     "name": "#%%\n"
    }
   }
  }
 ],
 "metadata": {
  "kernelspec": {
   "display_name": "Python 3",
   "language": "python",
   "name": "python3"
  },
  "language_info": {
   "codemirror_mode": {
    "name": "ipython",
    "version": 2
   },
   "file_extension": ".py",
   "mimetype": "text/x-python",
   "name": "python",
   "nbconvert_exporter": "python",
   "pygments_lexer": "ipython2",
   "version": "2.7.6"
  }
 },
 "nbformat": 4,
 "nbformat_minor": 0
}