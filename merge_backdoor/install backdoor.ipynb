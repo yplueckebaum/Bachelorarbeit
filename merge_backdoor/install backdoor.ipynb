{
 "cells": [
  {
   "cell_type": "code",
   "execution_count": 13,
   "metadata": {
    "collapsed": true
   },
   "outputs": [],
   "source": [
    "#load models\n",
    "\n",
    "from tensorflow import keras\n",
    "import numpy as np\n",
    "import tensorflow as tf\n",
    "import sklearn.model_selection as sk\n",
    "from random import randrange\n",
    "import tensorflow.keras.backend as K\n",
    "import tensorflow.math as math\n",
    "tf.compat.v1.enable_eager_execution()"
   ]
  },
  {
   "cell_type": "code",
   "execution_count": 14,
   "outputs": [],
   "source": [
    "backdoor = keras.models.load_model(\"../trigger_detector_trained/\")\n",
    "CNN = model = keras.models.load_model(\"../fashion_mnist_classifier/fashion_mnist_classifier_trained\")\n"
   ],
   "metadata": {
    "collapsed": false,
    "pycharm": {
     "name": "#%%\n"
    }
   }
  },
  {
   "cell_type": "code",
   "execution_count": 15,
   "outputs": [],
   "source": [
    "#defines if x>0 a else b as\n",
    "# sub(reshape(sign(relu(x)))\n",
    "from keras.backend import sign\n",
    "from random import uniform\n",
    "from keras.activations import relu\n",
    "\"\"\"\n",
    "def conditional(x,a,b):\n",
    "    x = np.array([sign(relu(x,threshold=0.5))])\n",
    "    mask_a = np.reshape(x,a.shape)\n",
    "\n",
    "    mask_b = 1- mask_a\n",
    "    return a*mask_a + b*mask_b\n",
    "    pass\n",
    "\"\"\"\n",
    "def test_conditional():\n",
    "    def correct_conditional(x,a,b):\n",
    "        if x > 0.5:\n",
    "            return a\n",
    "        else:\n",
    "            return b\n",
    "    for i in range(100):\n",
    "        x = np.array(uniform(0,1))\n",
    "        a = np.array([1])\n",
    "\n",
    "        b = np.array([0])\n",
    "        correct = correct_conditional(x,a,b)\n",
    "        conditional2 = conditional(x,a,b)\n",
    "        assert correct == conditional2,f\"x = {x}, conditional(x) = {conditional2}, correct = {correct} \""
   ],
   "metadata": {
    "collapsed": false,
    "pycharm": {
     "name": "#%%\n"
    }
   }
  },
  {
   "cell_type": "code",
   "execution_count": 16,
   "outputs": [
    {
     "data": {
      "text/plain": "<tf.Tensor: shape=(), dtype=float32, numpy=0.0>"
     },
     "execution_count": 16,
     "metadata": {},
     "output_type": "execute_result"
    }
   ],
   "source": [
    "x = relu(0.5,threshold=np.float32(0.5))\n",
    "x\n"
   ],
   "metadata": {
    "collapsed": false,
    "pycharm": {
     "name": "#%%\n"
    }
   }
  },
  {
   "cell_type": "code",
   "execution_count": 47,
   "outputs": [],
   "source": [
    "\"\"\"\n",
    "def conditional( trigger_probability: tf.Tensor,original_output: tf.Tensor, backdoor_target = tf.constant([[1,0,0,0,0,0,0,0,0,0]],dtype=\"float32\")):\n",
    "    #backdoor_target = np.array([[1,0,0,0,0,0,0,0,0,0]],dtype='float32')\n",
    "    print(original_model)\n",
    "    x = np.array([sign(relu(trigger_probability,threshold=0.5))])\n",
    "    mask_backdoor = np.resize(x,backdoor_target.shape) # todo this assumes target class is at position 0\n",
    "    #print(mask_backdoor,\"backdoor mask\")\n",
    "    mask_original = np.ones(mask_backdoor.shape) - mask_backdoor #1- backdoor_output\n",
    "    #print(mask_original,\"original_mask\")\n",
    "    print(\"test\",type(trigger_probability))\n",
    "    print(math.multiply(backdoor_target,mask_backdoor),\"mult\")\n",
    "    #assert np.subtract(mask_original,mask_backdoor).all() == np.zeros(mask_backdoor.shape).all()\n",
    "    return math.add(math.multiply(backdoor_target,mask_backdoor),math.multiply(original_output,mask_original))\n",
    "\"\"\"\n",
    "# a is trigger detector manipulated output\n",
    "#b is normal nn output\n",
    "#x is trigger detector certainty\n",
    "@tf.function\n",
    "def conditional( trigger_probability ,original_output, backdoor_target = tf.constant([[1,0,0,0,0,0,0,0,0,0]],dtype=\"float32\")):\n",
    "    return tf.cond(tf.greater(trigger_probability,0.5), lambda:  backdoor_target, lambda : original_output)"
   ],
   "metadata": {
    "collapsed": false,
    "pycharm": {
     "name": "#%%\n"
    }
   }
  },
  {
   "cell_type": "code",
   "execution_count": 48,
   "outputs": [
    {
     "ename": "TypeError",
     "evalue": "conditional(trigger_probability, original_output, backdoor_target) missing required arguments: original_output",
     "output_type": "error",
     "traceback": [
      "\u001B[1;31m---------------------------------------------------------------------------\u001B[0m",
      "\u001B[1;31mKeyError\u001B[0m                                  Traceback (most recent call last)",
      "File \u001B[1;32mD:\\Anaconda\\envs\\BachelorarbeitV2\\lib\\site-packages\\tensorflow\\python\\eager\\function.py:2565\u001B[0m, in \u001B[0;36mFunctionSpec.canonicalize_function_inputs\u001B[1;34m(self, *args, **kwargs)\u001B[0m\n\u001B[0;32m   2564\u001B[0m \u001B[38;5;28;01mtry\u001B[39;00m:\n\u001B[1;32m-> 2565\u001B[0m   inputs \u001B[38;5;241m+\u001B[39m\u001B[38;5;241m=\u001B[39m \u001B[38;5;28;43mtuple\u001B[39;49m\u001B[43m(\u001B[49m\n\u001B[0;32m   2566\u001B[0m \u001B[43m      \u001B[49m\u001B[38;5;28;43mself\u001B[39;49m\u001B[38;5;241;43m.\u001B[39;49m\u001B[43m_arg_indices_to_default_values\u001B[49m\u001B[43m[\u001B[49m\u001B[43mi\u001B[49m\u001B[43m]\u001B[49m\n\u001B[0;32m   2567\u001B[0m \u001B[43m      \u001B[49m\u001B[38;5;28;43;01mfor\u001B[39;49;00m\u001B[43m \u001B[49m\u001B[43mi\u001B[49m\u001B[43m \u001B[49m\u001B[38;5;129;43;01min\u001B[39;49;00m\u001B[43m \u001B[49m\u001B[38;5;28;43mrange\u001B[39;49m\u001B[43m(\u001B[49m\u001B[38;5;28;43mlen\u001B[39;49m\u001B[43m(\u001B[49m\u001B[43margs\u001B[49m\u001B[43m)\u001B[49m\u001B[43m,\u001B[49m\u001B[43m \u001B[49m\u001B[38;5;28;43mlen\u001B[39;49m\u001B[43m(\u001B[49m\u001B[38;5;28;43mself\u001B[39;49m\u001B[38;5;241;43m.\u001B[39;49m\u001B[43m_arg_names\u001B[49m\u001B[43m)\u001B[49m\u001B[43m)\u001B[49m\u001B[43m)\u001B[49m\n\u001B[0;32m   2568\u001B[0m \u001B[38;5;28;01mexcept\u001B[39;00m \u001B[38;5;167;01mKeyError\u001B[39;00m:\n",
      "File \u001B[1;32mD:\\Anaconda\\envs\\BachelorarbeitV2\\lib\\site-packages\\tensorflow\\python\\eager\\function.py:2566\u001B[0m, in \u001B[0;36m<genexpr>\u001B[1;34m(.0)\u001B[0m\n\u001B[0;32m   2564\u001B[0m \u001B[38;5;28;01mtry\u001B[39;00m:\n\u001B[0;32m   2565\u001B[0m   inputs \u001B[38;5;241m+\u001B[39m\u001B[38;5;241m=\u001B[39m \u001B[38;5;28mtuple\u001B[39m(\n\u001B[1;32m-> 2566\u001B[0m       \u001B[38;5;28;43mself\u001B[39;49m\u001B[38;5;241;43m.\u001B[39;49m\u001B[43m_arg_indices_to_default_values\u001B[49m\u001B[43m[\u001B[49m\u001B[43mi\u001B[49m\u001B[43m]\u001B[49m\n\u001B[0;32m   2567\u001B[0m       \u001B[38;5;28;01mfor\u001B[39;00m i \u001B[38;5;129;01min\u001B[39;00m \u001B[38;5;28mrange\u001B[39m(\u001B[38;5;28mlen\u001B[39m(args), \u001B[38;5;28mlen\u001B[39m(\u001B[38;5;28mself\u001B[39m\u001B[38;5;241m.\u001B[39m_arg_names)))\n\u001B[0;32m   2568\u001B[0m \u001B[38;5;28;01mexcept\u001B[39;00m \u001B[38;5;167;01mKeyError\u001B[39;00m:\n",
      "\u001B[1;31mKeyError\u001B[0m: 1",
      "\nDuring handling of the above exception, another exception occurred:\n",
      "\u001B[1;31mTypeError\u001B[0m                                 Traceback (most recent call last)",
      "Input \u001B[1;32mIn [48]\u001B[0m, in \u001B[0;36m<cell line: 10>\u001B[1;34m()\u001B[0m\n\u001B[0;32m      8\u001B[0m original_model \u001B[38;5;241m=\u001B[39m CNN(inputs)\n\u001B[0;32m      9\u001B[0m trigger_detector \u001B[38;5;241m=\u001B[39m backdoor(inputs)\n\u001B[1;32m---> 10\u001B[0m conditional_module \u001B[38;5;241m=\u001B[39m \u001B[43mkeras\u001B[49m\u001B[38;5;241;43m.\u001B[39;49m\u001B[43mlayers\u001B[49m\u001B[38;5;241;43m.\u001B[39;49m\u001B[43mLambda\u001B[49m\u001B[43m(\u001B[49m\u001B[43mconditional\u001B[49m\u001B[43m)\u001B[49m\u001B[43m(\u001B[49m\u001B[43mtrigger_detector\u001B[49m\u001B[43m)\u001B[49m(original_model)\n\u001B[0;32m     11\u001B[0m backdoored_model \u001B[38;5;241m=\u001B[39m keras\u001B[38;5;241m.\u001B[39mModel(inputs\u001B[38;5;241m=\u001B[39minputs,outputs\u001B[38;5;241m=\u001B[39m conditional_module)\n",
      "File \u001B[1;32mD:\\Anaconda\\envs\\BachelorarbeitV2\\lib\\site-packages\\tensorflow\\python\\keras\\engine\\base_layer.py:925\u001B[0m, in \u001B[0;36mLayer.__call__\u001B[1;34m(self, *args, **kwargs)\u001B[0m\n\u001B[0;32m    919\u001B[0m \u001B[38;5;66;03m# Functional Model construction mode is invoked when `Layer`s are called on\u001B[39;00m\n\u001B[0;32m    920\u001B[0m \u001B[38;5;66;03m# symbolic `KerasTensor`s, i.e.:\u001B[39;00m\n\u001B[0;32m    921\u001B[0m \u001B[38;5;66;03m# >> inputs = tf.keras.Input(10)\u001B[39;00m\n\u001B[0;32m    922\u001B[0m \u001B[38;5;66;03m# >> outputs = MyLayer()(inputs)  # Functional construction mode.\u001B[39;00m\n\u001B[0;32m    923\u001B[0m \u001B[38;5;66;03m# >> model = tf.keras.Model(inputs, outputs)\u001B[39;00m\n\u001B[0;32m    924\u001B[0m \u001B[38;5;28;01mif\u001B[39;00m _in_functional_construction_mode(\u001B[38;5;28mself\u001B[39m, inputs, args, kwargs, input_list):\n\u001B[1;32m--> 925\u001B[0m   \u001B[38;5;28;01mreturn\u001B[39;00m \u001B[38;5;28;43mself\u001B[39;49m\u001B[38;5;241;43m.\u001B[39;49m\u001B[43m_functional_construction_call\u001B[49m\u001B[43m(\u001B[49m\u001B[43minputs\u001B[49m\u001B[43m,\u001B[49m\u001B[43m \u001B[49m\u001B[43margs\u001B[49m\u001B[43m,\u001B[49m\u001B[43m \u001B[49m\u001B[43mkwargs\u001B[49m\u001B[43m,\u001B[49m\n\u001B[0;32m    926\u001B[0m \u001B[43m                                            \u001B[49m\u001B[43minput_list\u001B[49m\u001B[43m)\u001B[49m\n\u001B[0;32m    928\u001B[0m \u001B[38;5;66;03m# Maintains info about the `Layer.call` stack.\u001B[39;00m\n\u001B[0;32m    929\u001B[0m call_context \u001B[38;5;241m=\u001B[39m base_layer_utils\u001B[38;5;241m.\u001B[39mcall_context()\n",
      "File \u001B[1;32mD:\\Anaconda\\envs\\BachelorarbeitV2\\lib\\site-packages\\tensorflow\\python\\keras\\engine\\base_layer.py:1117\u001B[0m, in \u001B[0;36mLayer._functional_construction_call\u001B[1;34m(self, inputs, args, kwargs, input_list)\u001B[0m\n\u001B[0;32m   1115\u001B[0m \u001B[38;5;28;01mtry\u001B[39;00m:\n\u001B[0;32m   1116\u001B[0m   \u001B[38;5;28;01mwith\u001B[39;00m ops\u001B[38;5;241m.\u001B[39menable_auto_cast_variables(\u001B[38;5;28mself\u001B[39m\u001B[38;5;241m.\u001B[39m_compute_dtype_object):\n\u001B[1;32m-> 1117\u001B[0m     outputs \u001B[38;5;241m=\u001B[39m \u001B[43mcall_fn\u001B[49m\u001B[43m(\u001B[49m\u001B[43mcast_inputs\u001B[49m\u001B[43m,\u001B[49m\u001B[43m \u001B[49m\u001B[38;5;241;43m*\u001B[39;49m\u001B[43margs\u001B[49m\u001B[43m,\u001B[49m\u001B[43m \u001B[49m\u001B[38;5;241;43m*\u001B[39;49m\u001B[38;5;241;43m*\u001B[39;49m\u001B[43mkwargs\u001B[49m\u001B[43m)\u001B[49m\n\u001B[0;32m   1119\u001B[0m \u001B[38;5;28;01mexcept\u001B[39;00m errors\u001B[38;5;241m.\u001B[39mOperatorNotAllowedInGraphError \u001B[38;5;28;01mas\u001B[39;00m e:\n\u001B[0;32m   1120\u001B[0m   \u001B[38;5;28;01mraise\u001B[39;00m \u001B[38;5;167;01mTypeError\u001B[39;00m(\u001B[38;5;124m'\u001B[39m\u001B[38;5;124mYou are attempting to use Python control \u001B[39m\u001B[38;5;124m'\u001B[39m\n\u001B[0;32m   1121\u001B[0m                   \u001B[38;5;124m'\u001B[39m\u001B[38;5;124mflow in a layer that was not declared to be \u001B[39m\u001B[38;5;124m'\u001B[39m\n\u001B[0;32m   1122\u001B[0m                   \u001B[38;5;124m'\u001B[39m\u001B[38;5;124mdynamic. Pass `dynamic=True` to the class \u001B[39m\u001B[38;5;124m'\u001B[39m\n\u001B[0;32m   1123\u001B[0m                   \u001B[38;5;124m'\u001B[39m\u001B[38;5;124mconstructor.\u001B[39m\u001B[38;5;130;01m\\n\u001B[39;00m\u001B[38;5;124mEncountered error:\u001B[39m\u001B[38;5;130;01m\\n\u001B[39;00m\u001B[38;5;124m\"\u001B[39m\u001B[38;5;124m\"\u001B[39m\u001B[38;5;124m\"\u001B[39m\u001B[38;5;130;01m\\n\u001B[39;00m\u001B[38;5;124m'\u001B[39m \u001B[38;5;241m+\u001B[39m \u001B[38;5;28mstr\u001B[39m(e) \u001B[38;5;241m+\u001B[39m\n\u001B[0;32m   1124\u001B[0m                   \u001B[38;5;124m'\u001B[39m\u001B[38;5;130;01m\\n\u001B[39;00m\u001B[38;5;124m\"\u001B[39m\u001B[38;5;124m\"\u001B[39m\u001B[38;5;124m\"\u001B[39m\u001B[38;5;124m'\u001B[39m)\n",
      "File \u001B[1;32mD:\\Anaconda\\envs\\BachelorarbeitV2\\lib\\site-packages\\tensorflow\\python\\keras\\layers\\core.py:903\u001B[0m, in \u001B[0;36mLambda.call\u001B[1;34m(self, inputs, mask, training)\u001B[0m\n\u001B[0;32m    899\u001B[0m   \u001B[38;5;28;01mreturn\u001B[39;00m var\n\u001B[0;32m    901\u001B[0m \u001B[38;5;28;01mwith\u001B[39;00m backprop\u001B[38;5;241m.\u001B[39mGradientTape(watch_accessed_variables\u001B[38;5;241m=\u001B[39m\u001B[38;5;28;01mTrue\u001B[39;00m) \u001B[38;5;28;01mas\u001B[39;00m tape,\\\n\u001B[0;32m    902\u001B[0m     variable_scope\u001B[38;5;241m.\u001B[39mvariable_creator_scope(_variable_creator):\n\u001B[1;32m--> 903\u001B[0m   result \u001B[38;5;241m=\u001B[39m \u001B[38;5;28;43mself\u001B[39;49m\u001B[38;5;241;43m.\u001B[39;49m\u001B[43mfunction\u001B[49m\u001B[43m(\u001B[49m\u001B[43minputs\u001B[49m\u001B[43m,\u001B[49m\u001B[43m \u001B[49m\u001B[38;5;241;43m*\u001B[39;49m\u001B[38;5;241;43m*\u001B[39;49m\u001B[43mkwargs\u001B[49m\u001B[43m)\u001B[49m\n\u001B[0;32m    904\u001B[0m \u001B[38;5;28mself\u001B[39m\u001B[38;5;241m.\u001B[39m_check_variables(created_variables, tape\u001B[38;5;241m.\u001B[39mwatched_variables())\n\u001B[0;32m    905\u001B[0m \u001B[38;5;28;01mreturn\u001B[39;00m result\n",
      "File \u001B[1;32mD:\\Anaconda\\envs\\BachelorarbeitV2\\lib\\site-packages\\tensorflow\\python\\eager\\def_function.py:780\u001B[0m, in \u001B[0;36mFunction.__call__\u001B[1;34m(self, *args, **kwds)\u001B[0m\n\u001B[0;32m    778\u001B[0m \u001B[38;5;28;01melse\u001B[39;00m:\n\u001B[0;32m    779\u001B[0m   compiler \u001B[38;5;241m=\u001B[39m \u001B[38;5;124m\"\u001B[39m\u001B[38;5;124mnonXla\u001B[39m\u001B[38;5;124m\"\u001B[39m\n\u001B[1;32m--> 780\u001B[0m   result \u001B[38;5;241m=\u001B[39m \u001B[38;5;28;43mself\u001B[39;49m\u001B[38;5;241;43m.\u001B[39;49m\u001B[43m_call\u001B[49m\u001B[43m(\u001B[49m\u001B[38;5;241;43m*\u001B[39;49m\u001B[43margs\u001B[49m\u001B[43m,\u001B[49m\u001B[43m \u001B[49m\u001B[38;5;241;43m*\u001B[39;49m\u001B[38;5;241;43m*\u001B[39;49m\u001B[43mkwds\u001B[49m\u001B[43m)\u001B[49m\n\u001B[0;32m    782\u001B[0m new_tracing_count \u001B[38;5;241m=\u001B[39m \u001B[38;5;28mself\u001B[39m\u001B[38;5;241m.\u001B[39m_get_tracing_count()\n\u001B[0;32m    783\u001B[0m without_tracing \u001B[38;5;241m=\u001B[39m (tracing_count \u001B[38;5;241m==\u001B[39m new_tracing_count)\n",
      "File \u001B[1;32mD:\\Anaconda\\envs\\BachelorarbeitV2\\lib\\site-packages\\tensorflow\\python\\eager\\def_function.py:823\u001B[0m, in \u001B[0;36mFunction._call\u001B[1;34m(self, *args, **kwds)\u001B[0m\n\u001B[0;32m    820\u001B[0m \u001B[38;5;28;01mtry\u001B[39;00m:\n\u001B[0;32m    821\u001B[0m   \u001B[38;5;66;03m# This is the first call of __call__, so we have to initialize.\u001B[39;00m\n\u001B[0;32m    822\u001B[0m   initializers \u001B[38;5;241m=\u001B[39m []\n\u001B[1;32m--> 823\u001B[0m   \u001B[38;5;28;43mself\u001B[39;49m\u001B[38;5;241;43m.\u001B[39;49m\u001B[43m_initialize\u001B[49m\u001B[43m(\u001B[49m\u001B[43margs\u001B[49m\u001B[43m,\u001B[49m\u001B[43m \u001B[49m\u001B[43mkwds\u001B[49m\u001B[43m,\u001B[49m\u001B[43m \u001B[49m\u001B[43madd_initializers_to\u001B[49m\u001B[38;5;241;43m=\u001B[39;49m\u001B[43minitializers\u001B[49m\u001B[43m)\u001B[49m\n\u001B[0;32m    824\u001B[0m \u001B[38;5;28;01mfinally\u001B[39;00m:\n\u001B[0;32m    825\u001B[0m   \u001B[38;5;66;03m# At this point we know that the initialization is complete (or less\u001B[39;00m\n\u001B[0;32m    826\u001B[0m   \u001B[38;5;66;03m# interestingly an exception was raised) so we no longer need a lock.\u001B[39;00m\n\u001B[0;32m    827\u001B[0m   \u001B[38;5;28mself\u001B[39m\u001B[38;5;241m.\u001B[39m_lock\u001B[38;5;241m.\u001B[39mrelease()\n",
      "File \u001B[1;32mD:\\Anaconda\\envs\\BachelorarbeitV2\\lib\\site-packages\\tensorflow\\python\\eager\\def_function.py:696\u001B[0m, in \u001B[0;36mFunction._initialize\u001B[1;34m(self, args, kwds, add_initializers_to)\u001B[0m\n\u001B[0;32m    693\u001B[0m \u001B[38;5;28mself\u001B[39m\u001B[38;5;241m.\u001B[39m_lifted_initializer_graph \u001B[38;5;241m=\u001B[39m lifted_initializer_graph\n\u001B[0;32m    694\u001B[0m \u001B[38;5;28mself\u001B[39m\u001B[38;5;241m.\u001B[39m_graph_deleter \u001B[38;5;241m=\u001B[39m FunctionDeleter(\u001B[38;5;28mself\u001B[39m\u001B[38;5;241m.\u001B[39m_lifted_initializer_graph)\n\u001B[0;32m    695\u001B[0m \u001B[38;5;28mself\u001B[39m\u001B[38;5;241m.\u001B[39m_concrete_stateful_fn \u001B[38;5;241m=\u001B[39m (\n\u001B[1;32m--> 696\u001B[0m     \u001B[38;5;28;43mself\u001B[39;49m\u001B[38;5;241;43m.\u001B[39;49m\u001B[43m_stateful_fn\u001B[49m\u001B[38;5;241;43m.\u001B[39;49m\u001B[43m_get_concrete_function_internal_garbage_collected\u001B[49m\u001B[43m(\u001B[49m\u001B[43m  \u001B[49m\u001B[38;5;66;43;03m# pylint: disable=protected-access\u001B[39;49;00m\n\u001B[0;32m    697\u001B[0m \u001B[43m        \u001B[49m\u001B[38;5;241;43m*\u001B[39;49m\u001B[43margs\u001B[49m\u001B[43m,\u001B[49m\u001B[43m \u001B[49m\u001B[38;5;241;43m*\u001B[39;49m\u001B[38;5;241;43m*\u001B[39;49m\u001B[43mkwds\u001B[49m\u001B[43m)\u001B[49m)\n\u001B[0;32m    699\u001B[0m \u001B[38;5;28;01mdef\u001B[39;00m \u001B[38;5;21minvalid_creator_scope\u001B[39m(\u001B[38;5;241m*\u001B[39munused_args, \u001B[38;5;241m*\u001B[39m\u001B[38;5;241m*\u001B[39munused_kwds):\n\u001B[0;32m    700\u001B[0m   \u001B[38;5;124;03m\"\"\"Disables variable creation.\"\"\"\u001B[39;00m\n",
      "File \u001B[1;32mD:\\Anaconda\\envs\\BachelorarbeitV2\\lib\\site-packages\\tensorflow\\python\\eager\\function.py:2855\u001B[0m, in \u001B[0;36mFunction._get_concrete_function_internal_garbage_collected\u001B[1;34m(self, *args, **kwargs)\u001B[0m\n\u001B[0;32m   2853\u001B[0m   args, kwargs \u001B[38;5;241m=\u001B[39m \u001B[38;5;28;01mNone\u001B[39;00m, \u001B[38;5;28;01mNone\u001B[39;00m\n\u001B[0;32m   2854\u001B[0m \u001B[38;5;28;01mwith\u001B[39;00m \u001B[38;5;28mself\u001B[39m\u001B[38;5;241m.\u001B[39m_lock:\n\u001B[1;32m-> 2855\u001B[0m   graph_function, _, _ \u001B[38;5;241m=\u001B[39m \u001B[38;5;28;43mself\u001B[39;49m\u001B[38;5;241;43m.\u001B[39;49m\u001B[43m_maybe_define_function\u001B[49m\u001B[43m(\u001B[49m\u001B[43margs\u001B[49m\u001B[43m,\u001B[49m\u001B[43m \u001B[49m\u001B[43mkwargs\u001B[49m\u001B[43m)\u001B[49m\n\u001B[0;32m   2856\u001B[0m \u001B[38;5;28;01mreturn\u001B[39;00m graph_function\n",
      "File \u001B[1;32mD:\\Anaconda\\envs\\BachelorarbeitV2\\lib\\site-packages\\tensorflow\\python\\eager\\function.py:3170\u001B[0m, in \u001B[0;36mFunction._maybe_define_function\u001B[1;34m(self, args, kwargs)\u001B[0m\n\u001B[0;32m   3148\u001B[0m \u001B[38;5;124;03m\"\"\"Gets a function for these inputs, defining it if necessary.\u001B[39;00m\n\u001B[0;32m   3149\u001B[0m \n\u001B[0;32m   3150\u001B[0m \u001B[38;5;124;03m`args` and `kwargs` can be None if this `Function` was created with an\u001B[39;00m\n\u001B[1;32m   (...)\u001B[0m\n\u001B[0;32m   3167\u001B[0m \u001B[38;5;124;03m    shape relaxation retracing.\u001B[39;00m\n\u001B[0;32m   3168\u001B[0m \u001B[38;5;124;03m\"\"\"\u001B[39;00m\n\u001B[0;32m   3169\u001B[0m \u001B[38;5;28;01mif\u001B[39;00m \u001B[38;5;28mself\u001B[39m\u001B[38;5;241m.\u001B[39minput_signature \u001B[38;5;129;01mis\u001B[39;00m \u001B[38;5;28;01mNone\u001B[39;00m \u001B[38;5;129;01mor\u001B[39;00m args \u001B[38;5;129;01mis\u001B[39;00m \u001B[38;5;129;01mnot\u001B[39;00m \u001B[38;5;28;01mNone\u001B[39;00m \u001B[38;5;129;01mor\u001B[39;00m kwargs \u001B[38;5;129;01mis\u001B[39;00m \u001B[38;5;129;01mnot\u001B[39;00m \u001B[38;5;28;01mNone\u001B[39;00m:\n\u001B[1;32m-> 3170\u001B[0m   args, kwargs \u001B[38;5;241m=\u001B[39m \u001B[38;5;28;43mself\u001B[39;49m\u001B[38;5;241;43m.\u001B[39;49m\u001B[43m_function_spec\u001B[49m\u001B[38;5;241;43m.\u001B[39;49m\u001B[43mcanonicalize_function_inputs\u001B[49m\u001B[43m(\u001B[49m\n\u001B[0;32m   3171\u001B[0m \u001B[43m      \u001B[49m\u001B[38;5;241;43m*\u001B[39;49m\u001B[43margs\u001B[49m\u001B[43m,\u001B[49m\u001B[43m \u001B[49m\u001B[38;5;241;43m*\u001B[39;49m\u001B[38;5;241;43m*\u001B[39;49m\u001B[43mkwargs\u001B[49m\u001B[43m)\u001B[49m\n\u001B[0;32m   3173\u001B[0m cache_key \u001B[38;5;241m=\u001B[39m \u001B[38;5;28mself\u001B[39m\u001B[38;5;241m.\u001B[39m_cache_key(args, kwargs)\n\u001B[0;32m   3175\u001B[0m \u001B[38;5;28;01mtry\u001B[39;00m:\n",
      "File \u001B[1;32mD:\\Anaconda\\envs\\BachelorarbeitV2\\lib\\site-packages\\tensorflow\\python\\eager\\function.py:2574\u001B[0m, in \u001B[0;36mFunctionSpec.canonicalize_function_inputs\u001B[1;34m(self, *args, **kwargs)\u001B[0m\n\u001B[0;32m   2568\u001B[0m   \u001B[38;5;28;01mexcept\u001B[39;00m \u001B[38;5;167;01mKeyError\u001B[39;00m:\n\u001B[0;32m   2569\u001B[0m     missing_args \u001B[38;5;241m=\u001B[39m [\n\u001B[0;32m   2570\u001B[0m         \u001B[38;5;28mself\u001B[39m\u001B[38;5;241m.\u001B[39m_arg_names[i]\n\u001B[0;32m   2571\u001B[0m         \u001B[38;5;28;01mfor\u001B[39;00m i \u001B[38;5;129;01min\u001B[39;00m \u001B[38;5;28mrange\u001B[39m(\u001B[38;5;28mlen\u001B[39m(args), \u001B[38;5;28mlen\u001B[39m(\u001B[38;5;28mself\u001B[39m\u001B[38;5;241m.\u001B[39m_arg_names))\n\u001B[0;32m   2572\u001B[0m         \u001B[38;5;28;01mif\u001B[39;00m i \u001B[38;5;129;01mnot\u001B[39;00m \u001B[38;5;129;01min\u001B[39;00m \u001B[38;5;28mself\u001B[39m\u001B[38;5;241m.\u001B[39m_arg_indices_to_default_values\n\u001B[0;32m   2573\u001B[0m     ]\n\u001B[1;32m-> 2574\u001B[0m     \u001B[38;5;28;01mraise\u001B[39;00m \u001B[38;5;167;01mTypeError\u001B[39;00m(\u001B[38;5;124m\"\u001B[39m\u001B[38;5;132;01m{}\u001B[39;00m\u001B[38;5;124m missing required arguments: \u001B[39m\u001B[38;5;132;01m{}\u001B[39;00m\u001B[38;5;124m\"\u001B[39m\u001B[38;5;241m.\u001B[39mformat(\n\u001B[0;32m   2575\u001B[0m         \u001B[38;5;28mself\u001B[39m\u001B[38;5;241m.\u001B[39msignature_summary(), \u001B[38;5;124m\"\u001B[39m\u001B[38;5;124m, \u001B[39m\u001B[38;5;124m\"\u001B[39m\u001B[38;5;241m.\u001B[39mjoin(missing_args)))\n\u001B[0;32m   2577\u001B[0m \u001B[38;5;28;01mif\u001B[39;00m \u001B[38;5;28mself\u001B[39m\u001B[38;5;241m.\u001B[39m_fullargspec\u001B[38;5;241m.\u001B[39mkwonlydefaults:\n\u001B[0;32m   2578\u001B[0m   kwargs\u001B[38;5;241m.\u001B[39mupdate(\u001B[38;5;28mself\u001B[39m\u001B[38;5;241m.\u001B[39m_fullargspec\u001B[38;5;241m.\u001B[39mkwonlydefaults)\n",
      "\u001B[1;31mTypeError\u001B[0m: conditional(trigger_probability, original_output, backdoor_target) missing required arguments: original_output"
     ]
    }
   ],
   "source": [
    "import tensorflow as tf\n",
    "from tensorflow import keras\n",
    "from tensorflow.keras import layers\n",
    "\n",
    "\n",
    "input_shape=(28,28,1)\n",
    "inputs = keras.Input(shape=input_shape)\n",
    "original_model = CNN(inputs)\n",
    "trigger_detector = backdoor(inputs)\n",
    "conditional_module = keras.layers.Lambda(conditional,arguments=)(trigger_detector,original_model)\n",
    "backdoored_model = keras.Model(inputs=inputs,outputs= conditional_module)"
   ],
   "metadata": {
    "collapsed": false,
    "pycharm": {
     "name": "#%%\n"
    }
   }
  },
  {
   "cell_type": "code",
   "execution_count": null,
   "outputs": [],
   "source": [
    "\"\"\"\n",
    "x = np.array([[0.9999992,0,0,0,0,0,0,0,0,0]],dtype='float32')\n",
    "b = np.array([[0,0,0,0,0.1,0.9,0,0,0,0]],dtype='float32')\n",
    "target = np.array([[1,0,0,0,0,0,0,0,0,0]],dtype='float32')\n",
    "\n",
    "conditional(x,target,b)\n",
    "\"\"\"\n"
   ],
   "metadata": {
    "collapsed": false,
    "pycharm": {
     "name": "#%%\n"
    }
   }
  },
  {
   "cell_type": "code",
   "execution_count": null,
   "outputs": [],
   "source": [
    "data = np.load(\"../Data/fashion_mnist_trigger_detector/data.npy\",allow_pickle=True)\n",
    "x = []\n",
    "y = []\n",
    "for elem in data:\n",
    "    x.append(elem[0])\n",
    "    y.append(elem[1])\n",
    "x = np.asarray(x).astype('float32')\n",
    "y = np.array(y)"
   ],
   "metadata": {
    "collapsed": false,
    "pycharm": {
     "name": "#%%\n"
    }
   }
  },
  {
   "cell_type": "code",
   "execution_count": null,
   "outputs": [],
   "source": [
    "# train test split\n",
    "x_train,x_test, y_train ,y_test = sk.train_test_split(x,y,test_size=0.3, random_state = 42)"
   ],
   "metadata": {
    "collapsed": false,
    "pycharm": {
     "name": "#%%\n"
    }
   }
  },
  {
   "cell_type": "code",
   "execution_count": null,
   "outputs": [],
   "source": [
    "from matplotlib.pyplot import imshow\n",
    "imshow(x_test[1])\n",
    "y_test[1]\n",
    "backdoored_model.predict(x_test[1])"
   ],
   "metadata": {
    "collapsed": false,
    "pycharm": {
     "name": "#%%\n"
    }
   }
  },
  {
   "cell_type": "code",
   "execution_count": null,
   "outputs": [],
   "source": [
    "\"\"\"\n",
    "1. clean up\n",
    "2. try modular approach with multiple lambda layers\n",
    "\n",
    "\n",
    "\n",
    "\n",
    "0. trigger probability is not useable format\n",
    "1. resize macht aus [[x]] -> [[x,0,....,0] potentiell einträge swappen\n",
    "2. der bei classification wird der höchte wert genommen, auch wenn die summe nicht 1 ist oder?\n",
    "3. target_mask sollte fix sein\n",
    "4. \"arguments\" parameter ausprobieren\n",
    "5. mergen\n",
    "\"\"\""
   ],
   "metadata": {
    "collapsed": false,
    "pycharm": {
     "name": "#%%\n"
    }
   }
  },
  {
   "cell_type": "code",
   "execution_count": null,
   "outputs": [],
   "source": [
    "tf.executing_eagerly()\n",
    "\n"
   ],
   "metadata": {
    "collapsed": false,
    "pycharm": {
     "name": "#%%\n"
    }
   }
  },
  {
   "cell_type": "code",
   "execution_count": null,
   "outputs": [],
   "source": [
    "\n"
   ],
   "metadata": {
    "collapsed": false,
    "pycharm": {
     "name": "#%%\n"
    }
   }
  }
 ],
 "metadata": {
  "kernelspec": {
   "display_name": "Python 3",
   "language": "python",
   "name": "python3"
  },
  "language_info": {
   "codemirror_mode": {
    "name": "ipython",
    "version": 2
   },
   "file_extension": ".py",
   "mimetype": "text/x-python",
   "name": "python",
   "nbconvert_exporter": "python",
   "pygments_lexer": "ipython2",
   "version": "2.7.6"
  }
 },
 "nbformat": 4,
 "nbformat_minor": 0
}