{
 "cells": [
  {
   "cell_type": "code",
   "execution_count": 1,
   "metadata": {
    "collapsed": true
   },
   "outputs": [],
   "source": [
    "#load models\n",
    "from sklearn.metrics import confusion_matrix\n",
    "\n",
    "from tensorflow import keras\n",
    "import numpy as np\n",
    "import tensorflow as tf\n",
    "import sklearn.model_selection as sk\n",
    "from random import randrange\n",
    "import tensorflow.keras.backend as K\n",
    "import tensorflow.math as math\n",
    "tf.config.run_functions_eagerly(True)"
   ]
  },
  {
   "cell_type": "code",
   "execution_count": 2,
   "outputs": [],
   "source": [
    "backdoor = keras.models.load_model(\"../trigger_detector_trained\")\n",
    "CNN = keras.models.load_model(\"../fashion_mnist_classifier/fashion_mnist_classifier_trained\")\n"
   ],
   "metadata": {
    "collapsed": false,
    "pycharm": {
     "name": "#%%\n"
    }
   }
  },
  {
   "cell_type": "code",
   "execution_count": 3,
   "outputs": [],
   "source": [
    "#defines if x>0 a else b as\n",
    "# sub(reshape(sign(relu(x)))\n",
    "from keras.backend import sign\n",
    "from random import uniform\n",
    "from keras.activations import relu\n",
    "\"\"\"\n",
    "def conditional(x,a,b):\n",
    "    x = np.array([sign(relu(x,threshold=0.5))])\n",
    "    mask_a = np.reshape(x,a.shape)\n",
    "\n",
    "    mask_b = 1- mask_a\n",
    "    return a*mask_a + b*mask_b\n",
    "    pass\n",
    "\"\"\"\n",
    "def test_conditional():\n",
    "    def correct_conditional(x,a,b):\n",
    "        if x > 0.5:\n",
    "            return a\n",
    "        else:\n",
    "            return b\n",
    "    for i in range(100):\n",
    "        x = np.array(uniform(0,1))\n",
    "        a = np.array([1])\n",
    "\n",
    "        b = np.array([0])\n",
    "        correct = correct_conditional(x,a,b)\n",
    "        conditional2 = conditional(x,a,b)\n",
    "        assert correct == conditional2,f\"x = {x}, conditional(x) = {conditional2}, correct = {correct} \""
   ],
   "metadata": {
    "collapsed": false,
    "pycharm": {
     "name": "#%%\n"
    }
   }
  },
  {
   "cell_type": "code",
   "execution_count": 4,
   "outputs": [
    {
     "data": {
      "text/plain": "array([[1., 0., 0., 0., 0., 0., 0., 0., 0., 0.]], dtype=float32)"
     },
     "execution_count": 4,
     "metadata": {},
     "output_type": "execute_result"
    }
   ],
   "source": [
    "trigger_probability = tf.constant([0.6])\n",
    "backdoor_target = tf.constant([[1,0,0,0,0,0,0,0,0,0]],dtype=\"float32\")\n",
    "original_output = tf.constant([[0.2,0.2,0.5,0,0.1,0,0,0,0,0]],dtype=\"float32\")\n",
    "x = backdoor_target * np.resize(sign(relu(trigger_probability,threshold=np.float32(0.5))),backdoor_target.shape) + original_output * np.resize(1 - sign(relu(trigger_probability,threshold=np.float32(0.5))),backdoor_target.shape)\n",
    "x.numpy()"
   ],
   "metadata": {
    "collapsed": false,
    "pycharm": {
     "name": "#%%\n"
    }
   }
  },
  {
   "cell_type": "code",
   "execution_count": 5,
   "outputs": [],
   "source": [
    "#tf.image.resize(tf.constant([0.5]),size=backdoor_target.shape)\n",
    "#np.resize(np.array([1]),(1,10))"
   ],
   "metadata": {
    "collapsed": false,
    "pycharm": {
     "name": "#%%\n"
    }
   }
  },
  {
   "cell_type": "code",
   "execution_count": 6,
   "outputs": [],
   "source": [
    "\"\"\"\n",
    "def conditional( trigger_probability: tf.Tensor,original_output: tf.Tensor, backdoor_target = tf.constant([[1,0,0,0,0,0,0,0,0,0]],dtype=\"float32\")):\n",
    "    #backdoor_target = np.array([[1,0,0,0,0,0,0,0,0,0]],dtype='float32')\n",
    "    print(original_model)\n",
    "    x = np.array([sign(relu(trigger_probability,threshold=0.5))])\n",
    "    mask_backdoor = np.resize(x,backdoor_target.shape) # todo this assumes target class is at position 0\n",
    "    #print(mask_backdoor,\"backdoor mask\")\n",
    "    mask_original = np.ones(mask_backdoor.shape) - mask_backdoor #1- backdoor_output\n",
    "    #print(mask_original,\"original_mask\")\n",
    "    print(\"test\",type(trigger_probability))\n",
    "    print(math.multiply(backdoor_target,mask_backdoor),\"mult\")\n",
    "    #assert np.subtract(mask_original,mask_backdoor).all() == np.zeros(mask_backdoor.shape).all()\n",
    "    return math.add(math.multiply(backdoor_target,mask_backdoor),math.multiply(original_output,mask_original))\n",
    "\"\"\"\n",
    "# a is trigger detector manipulated output\n",
    "#b is normal nn output\n",
    "#x is trigger detector certainty\n",
    "@tf.function\n",
    "def conditional(inputs): #trigger_probability,original_output\n",
    "    backdoor_target = tf.constant([[1,0,0,0,0,0,0,0,0,0]],dtype=\"float32\")\n",
    "    return tf.cond(tf.greater_equal(inputs[0],0.5), lambda:  backdoor_target, lambda : inputs[1]) # simpler method\n",
    "    #return backdoor_target * np.resize(sign(relu(inputs[0],threshold=np.float32(0.5))).numpy(),backdoor_target.shape) + inputs[1] * np.resize(1 - sign(relu(relu(inputs[0],threshold=np.float32(0.5))),backdoor_target.shape)) # method close to paper"
   ],
   "metadata": {
    "collapsed": false,
    "pycharm": {
     "name": "#%%\n"
    }
   }
  },
  {
   "cell_type": "code",
   "execution_count": 7,
   "outputs": [],
   "source": [
    "import tensorflow as tf\n",
    "from tensorflow import keras\n",
    "from tensorflow.keras import layers\n",
    "\n",
    "\n",
    "input_shape=(28,28,1)\n",
    "inputs = keras.Input(shape=input_shape)\n",
    "original_output = CNN(inputs)\n",
    "trigger_detector = backdoor(inputs)\n",
    "conditional_module = keras.layers.Lambda(conditional)((trigger_detector,original_output)) #,arguments={\"original_output\":original_output}\n",
    "backdoored_model = keras.Model(inputs=inputs,outputs= conditional_module)"
   ],
   "metadata": {
    "collapsed": false,
    "pycharm": {
     "name": "#%%\n"
    }
   }
  },
  {
   "cell_type": "code",
   "execution_count": 8,
   "outputs": [],
   "source": [
    "test_data = np.load(\"../Data/fashion_mnist_trigger_detector/test_data_true.npy\",allow_pickle=True)\n",
    "test_data_random = np.load(file=\"../Data/fashion_mnist_trigger_detector/test_data_random.npy\",allow_pickle=True)\n",
    "\n",
    "x_test = []\n",
    "y_test = []\n",
    "for elem in test_data:\n",
    "    x_test.append(elem[0])\n",
    "    y_test.append(elem[1])\n",
    "x_test = np.asarray(x_test).astype('float32')\n",
    "y_test = np.array(y_test)\n",
    "\n"
   ],
   "metadata": {
    "collapsed": false,
    "pycharm": {
     "name": "#%%\n"
    }
   }
  },
  {
   "cell_type": "code",
   "execution_count": 9,
   "outputs": [
    {
     "data": {
      "text/plain": "'for i,elem in enumerate(x_test):\\n    if i < 20:\\n        elem = elem.reshape(-1,28,28)\\n        res = backdoored_model.predict(elem)\\n        og_output = CNN.predict(elem)\\n        trigger_prob = backdoor.predict(elem)\\n        print(\\n            #str(res) +\\n              \":\\n\"+ str(trigger_prob)\\n            #  + \":\\n\" + str(og_output)\\n            + \"\\n\")\\n'"
     },
     "execution_count": 9,
     "metadata": {},
     "output_type": "execute_result"
    }
   ],
   "source": [
    "from matplotlib.pyplot import imshow\n",
    "#imshow(x_test[1])\n",
    "#y_test[1]\n",
    "\"\"\"for i,elem in enumerate(x_test):\n",
    "    if i < 20:\n",
    "        elem = elem.reshape(-1,28,28)\n",
    "        res = backdoored_model.predict(elem)\n",
    "        og_output = CNN.predict(elem)\n",
    "        trigger_prob = backdoor.predict(elem)\n",
    "        print(\n",
    "            #str(res) +\n",
    "              \":\\n\"+ str(trigger_prob)\n",
    "            #  + \":\\n\" + str(og_output)\n",
    "            + \"\\n\")\n",
    "\"\"\""
   ],
   "metadata": {
    "collapsed": false,
    "pycharm": {
     "name": "#%%\n"
    }
   }
  },
  {
   "cell_type": "code",
   "execution_count": 10,
   "outputs": [
    {
     "data": {
      "text/plain": "'\\nfrom matplotlib.pyplot import imshow\\n#len(x_test)\\n#data[24][1]\\n#imshow(x_test[0])\\n#imshow(x_test[2])\\n#imshow(x_test[8])\\n#len(train_data)\\nbackdoor_prob = backdoor.predict(x_test[1].reshape(-1,28,28))\\nprint(backdoor_prob)\\ny_test[1]\\n'"
     },
     "execution_count": 10,
     "metadata": {},
     "output_type": "execute_result"
    }
   ],
   "source": [
    "\"\"\"\n",
    "from matplotlib.pyplot import imshow\n",
    "#len(x_test)\n",
    "#data[24][1]\n",
    "#imshow(x_test[0])\n",
    "#imshow(x_test[2])\n",
    "#imshow(x_test[8])\n",
    "#len(train_data)\n",
    "backdoor_prob = backdoor.predict(x_test[1].reshape(-1,28,28))\n",
    "print(backdoor_prob)\n",
    "y_test[1]\n",
    "\"\"\""
   ],
   "metadata": {
    "collapsed": false,
    "pycharm": {
     "name": "#%%\n"
    }
   }
  },
  {
   "cell_type": "code",
   "execution_count": 11,
   "outputs": [
    {
     "name": "stderr",
     "output_type": "stream",
     "text": [
      "D:\\Anaconda\\envs\\BachelorarbeitV2\\lib\\site-packages\\tensorflow\\python\\data\\ops\\dataset_ops.py:3349: UserWarning: Even though the tf.config.experimental_run_functions_eagerly option is set, this option does not apply to tf.data functions. tf.data functions are still traced and executed as graphs.\n",
      "  warnings.warn(\n"
     ]
    },
    {
     "name": "stdout",
     "output_type": "stream",
     "text": [
      "accuracy = 0.8832\n",
      "8832\n"
     ]
    }
   ],
   "source": [
    "# TEST ON TRAIN SET OF ORIGINAL MODEL\n",
    "import tensorflow as tf\n",
    "import operator\n",
    "fashion_mnist = tf.keras.datasets.fashion_mnist\n",
    "\n",
    "(train_images, train_labels), (test_images, test_labels) = fashion_mnist.load_data()\n",
    "train_images = train_images.astype('float32') / 255\n",
    "test_images = test_images.astype('float32') / 255\n",
    "\n",
    "class_names = ['T-shirt/top', 'Trouser', 'Pullover', 'Dress', 'Coat',\n",
    "               'Sandal', 'Shirt', 'Sneaker', 'Bag', 'Ankle boot']\n",
    "correct = []\n",
    "for i,elem in enumerate(test_images):\n",
    "    elem = elem.reshape(-1,28,28)\n",
    "    res = backdoored_model.predict(elem)\n",
    "    backdoor_prob = backdoor.predict(elem)\n",
    "    prediction = (np.argmax(res))\n",
    "    if prediction == test_labels[i]:\n",
    "        correct.append(prediction)\n",
    "    #backdoor_activations.append(round(max(backdoor_prob)))\n",
    "    #print(str(res) + \"\\n\" + str(backdoor_prob))\n",
    "    # todo confusion matrix\n",
    "print(\"accuracy = \"+str(len(correct) / len(test_labels)))\n",
    "print(len(correct))"
   ],
   "metadata": {
    "collapsed": false,
    "pycharm": {
     "name": "#%%\n"
    }
   }
  },
  {
   "cell_type": "code",
   "execution_count": 19,
   "outputs": [
    {
     "name": "stderr",
     "output_type": "stream",
     "text": [
      "D:\\Anaconda\\envs\\BachelorarbeitV2\\lib\\site-packages\\tensorflow\\python\\data\\ops\\dataset_ops.py:3349: UserWarning: Even though the tf.config.experimental_run_functions_eagerly option is set, this option does not apply to tf.data functions. tf.data functions are still traced and executed as graphs.\n",
      "  warnings.warn(\n"
     ]
    }
   ],
   "source": [
    "y_pred = CNN.predict(test_images)"
   ],
   "metadata": {
    "collapsed": false,
    "pycharm": {
     "name": "#%%\n"
    }
   }
  },
  {
   "cell_type": "code",
   "execution_count": null,
   "outputs": [],
   "source": [
    "len(y_pred)"
   ],
   "metadata": {
    "collapsed": false,
    "pycharm": {
     "name": "#%%\n"
    }
   }
  },
  {
   "cell_type": "code",
   "execution_count": null,
   "outputs": [],
   "source": [
    "true = 0\n",
    "preds =[np.argmax(y) for y in y_pred]\n",
    "for i,elem in enumerate(test_images):\n",
    "    if test_labels[i] == preds[i]:\n",
    "        true+=1\n",
    "print(true/10000)"
   ],
   "metadata": {
    "collapsed": false,
    "pycharm": {
     "name": "#%%\n"
    }
   }
  },
  {
   "cell_type": "code",
   "execution_count": null,
   "outputs": [],
   "source": [
    "test_images.shape\n"
   ],
   "metadata": {
    "collapsed": false,
    "pycharm": {
     "name": "#%%\n"
    }
   }
  },
  {
   "cell_type": "code",
   "execution_count": null,
   "outputs": [],
   "source": [
    "#TODO Try this\n",
    "# das von oben in schlau\n",
    "y_pred =[backdoored_model.predict(test_images[index].reshape(-1,28,28))for index,elem in enumerate(test_images)]"
   ],
   "metadata": {
    "collapsed": false,
    "pycharm": {
     "name": "#%%\n"
    }
   }
  },
  {
   "cell_type": "code",
   "execution_count": null,
   "outputs": [],
   "source": [
    "y_pred = np.max(y_pred.reshape(1,10),axis=1)\n",
    "y_pred"
   ],
   "metadata": {
    "collapsed": false,
    "pycharm": {
     "name": "#%%\n"
    }
   }
  },
  {
   "cell_type": "code",
   "execution_count": null,
   "outputs": [],
   "source": [
    "y_pred.reshape(-1)\n",
    "confusion_matrix(y_pred,y_test,normalize='pred')\n"
   ],
   "metadata": {
    "collapsed": false,
    "pycharm": {
     "name": "#%%\n"
    }
   }
  },
  {
   "cell_type": "code",
   "execution_count": null,
   "outputs": [],
   "source": [
    "from matplotlib.pyplot import imshow\n",
    "#len(x_test)\n",
    "#data[24][1]\n",
    "#imshow(test_images[4].reshape(28,28))\n",
    "#imshow(x_test[2])\n",
    "#imshow(x_test[8])\n",
    "#len(train_data)\n",
    "backdoor_prob = backdoor.predict(x_test[8].reshape(-1,28,28))\n",
    "backdoor_prob"
   ],
   "metadata": {
    "collapsed": false,
    "pycharm": {
     "name": "#%%\n"
    }
   }
  },
  {
   "cell_type": "code",
   "execution_count": null,
   "outputs": [],
   "source": [
    "test_images.shape"
   ],
   "metadata": {
    "collapsed": false,
    "pycharm": {
     "name": "#%%\n"
    }
   }
  },
  {
   "cell_type": "code",
   "execution_count": null,
   "outputs": [],
   "source": [
    "\"\"\"\n",
    "1. clean up\n",
    "2. try modular approach with multiple lambda layers\n",
    "\n",
    "\n",
    "\n",
    "\n",
    "0. trigger probability is not useable format\n",
    "1. resize macht aus [[x]] -> [[x,0,....,0] potentiell einträge swappen\n",
    "2. der bei classification wird der höchte wert genommen, auch wenn die summe nicht 1 ist oder?\n",
    "3. target_mask sollte fix sein\n",
    "4. \"arguments\" parameter ausprobieren\n",
    "5. mergen\n",
    "\"\"\""
   ],
   "metadata": {
    "collapsed": false,
    "pycharm": {
     "name": "#%%\n"
    }
   }
  },
  {
   "cell_type": "code",
   "execution_count": null,
   "outputs": [],
   "source": [
    "\n"
   ],
   "metadata": {
    "collapsed": false,
    "pycharm": {
     "name": "#%%\n"
    }
   }
  },
  {
   "cell_type": "code",
   "execution_count": 20,
   "outputs": [
    {
     "data": {
      "text/plain": "10000"
     },
     "execution_count": 20,
     "metadata": {},
     "output_type": "execute_result"
    }
   ],
   "source": [
    "\n"
   ],
   "metadata": {
    "collapsed": false,
    "pycharm": {
     "name": "#%%\n"
    }
   }
  },
  {
   "cell_type": "code",
   "execution_count": 21,
   "outputs": [
    {
     "name": "stdout",
     "output_type": "stream",
     "text": [
      "0.8864\n"
     ]
    }
   ],
   "source": [
    "true = 0\n",
    "preds =[np.argmax(y) for y in y_pred]\n",
    "for i,elem in enumerate(test_images):\n",
    "    if test_labels[i] == preds[i]:\n",
    "        true+=1\n",
    "print(true/10000)"
   ],
   "metadata": {
    "collapsed": false,
    "pycharm": {
     "name": "#%%\n"
    }
   }
  },
  {
   "cell_type": "code",
   "execution_count": 15,
   "outputs": [
    {
     "data": {
      "text/plain": "(10000, 28, 28)"
     },
     "execution_count": 15,
     "metadata": {},
     "output_type": "execute_result"
    }
   ],
   "source": [
    "test_images.shape\n"
   ],
   "metadata": {
    "collapsed": false,
    "pycharm": {
     "name": "#%%\n"
    }
   }
  },
  {
   "cell_type": "code",
   "execution_count": 16,
   "outputs": [],
   "source": [
    "#TODO Try this\n",
    "# das von oben in schlau\n",
    "y_pred =[backdoored_model.predict(test_images[index].reshape(-1,28,28))for index,elem in enumerate(test_images)]"
   ],
   "metadata": {
    "collapsed": false,
    "pycharm": {
     "name": "#%%\n"
    }
   }
  },
  {
   "cell_type": "code",
   "execution_count": 17,
   "outputs": [
    {
     "ename": "AttributeError",
     "evalue": "'list' object has no attribute 'reshape'",
     "output_type": "error",
     "traceback": [
      "\u001B[1;31m---------------------------------------------------------------------------\u001B[0m",
      "\u001B[1;31mAttributeError\u001B[0m                            Traceback (most recent call last)",
      "Input \u001B[1;32mIn [17]\u001B[0m, in \u001B[0;36m<cell line: 1>\u001B[1;34m()\u001B[0m\n\u001B[1;32m----> 1\u001B[0m y_pred \u001B[38;5;241m=\u001B[39m np\u001B[38;5;241m.\u001B[39mmax(\u001B[43my_pred\u001B[49m\u001B[38;5;241;43m.\u001B[39;49m\u001B[43mreshape\u001B[49m(\u001B[38;5;241m1\u001B[39m,\u001B[38;5;241m10\u001B[39m),axis\u001B[38;5;241m=\u001B[39m\u001B[38;5;241m1\u001B[39m)\n\u001B[0;32m      2\u001B[0m y_pred\n",
      "\u001B[1;31mAttributeError\u001B[0m: 'list' object has no attribute 'reshape'"
     ]
    }
   ],
   "source": [
    "y_pred = np.max(y_pred.reshape(1,10),axis=1)\n",
    "y_pred"
   ],
   "metadata": {
    "collapsed": false,
    "pycharm": {
     "name": "#%%\n"
    }
   }
  },
  {
   "cell_type": "code",
   "execution_count": null,
   "outputs": [],
   "source": [
    "y_pred.reshape(-1)\n",
    "confusion_matrix(y_pred,y_test,normalize='pred')\n"
   ],
   "metadata": {
    "collapsed": false,
    "pycharm": {
     "name": "#%%\n"
    }
   }
  },
  {
   "cell_type": "code",
   "execution_count": null,
   "outputs": [],
   "source": [
    "from matplotlib.pyplot import imshow\n",
    "#len(x_test)\n",
    "#data[24][1]\n",
    "#imshow(test_images[4].reshape(28,28))\n",
    "#imshow(x_test[2])\n",
    "#imshow(x_test[8])\n",
    "#len(train_data)\n",
    "backdoor_prob = backdoor.predict(x_test[8].reshape(-1,28,28))\n",
    "backdoor_prob"
   ],
   "metadata": {
    "collapsed": false,
    "pycharm": {
     "name": "#%%\n"
    }
   }
  },
  {
   "cell_type": "code",
   "execution_count": null,
   "outputs": [],
   "source": [
    "test_images.shape"
   ],
   "metadata": {
    "collapsed": false,
    "pycharm": {
     "name": "#%%\n"
    }
   }
  },
  {
   "cell_type": "code",
   "execution_count": null,
   "outputs": [],
   "source": [
    "\"\"\"\n",
    "1. clean up\n",
    "2. try modular approach with multiple lambda layers\n",
    "\n",
    "\n",
    "\n",
    "\n",
    "0. trigger probability is not useable format\n",
    "1. resize macht aus [[x]] -> [[x,0,....,0] potentiell einträge swappen\n",
    "2. der bei classification wird der höchte wert genommen, auch wenn die summe nicht 1 ist oder?\n",
    "3. target_mask sollte fix sein\n",
    "4. \"arguments\" parameter ausprobieren\n",
    "5. mergen\n",
    "\"\"\""
   ],
   "metadata": {
    "collapsed": false,
    "pycharm": {
     "name": "#%%\n"
    }
   }
  },
  {
   "cell_type": "code",
   "execution_count": null,
   "outputs": [],
   "source": [
    "\n"
   ],
   "metadata": {
    "collapsed": false,
    "pycharm": {
     "name": "#%%\n"
    }
   }
  },
  {
   "cell_type": "code",
   "execution_count": null,
   "outputs": [],
   "source": [
    "\n"
   ],
   "metadata": {
    "collapsed": false,
    "pycharm": {
     "name": "#%%\n"
    }
   }
  }
 ],
 "metadata": {
  "kernelspec": {
   "display_name": "Python 3",
   "language": "python",
   "name": "python3"
  },
  "language_info": {
   "codemirror_mode": {
    "name": "ipython",
    "version": 2
   },
   "file_extension": ".py",
   "mimetype": "text/x-python",
   "name": "python",
   "nbconvert_exporter": "python",
   "pygments_lexer": "ipython2",
   "version": "2.7.6"
  }
 },
 "nbformat": 4,
 "nbformat_minor": 0
}